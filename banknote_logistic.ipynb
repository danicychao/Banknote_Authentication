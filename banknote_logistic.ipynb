{
 "cells": [
  {
   "cell_type": "code",
   "execution_count": 1,
   "id": "8da7a692-95e8-4940-9a18-fddb67255262",
   "metadata": {},
   "outputs": [],
   "source": [
    "import warnings\n",
    "warnings.filterwarnings('ignore')"
   ]
  },
  {
   "cell_type": "code",
   "execution_count": 2,
   "id": "1a365188-8adb-4801-89b8-c97978deb6a4",
   "metadata": {},
   "outputs": [],
   "source": [
    "import numpy as np\n",
    "import pandas as pd"
   ]
  },
  {
   "cell_type": "markdown",
   "id": "7b22a5af-df32-4767-9c65-ee860b3ef7cc",
   "metadata": {},
   "source": [
    "# Load data"
   ]
  },
  {
   "cell_type": "code",
   "execution_count": 3,
   "id": "5455d913-de15-4372-87ec-bd3df4ad3660",
   "metadata": {},
   "outputs": [
    {
     "data": {
      "text/html": [
       "<div>\n",
       "<style scoped>\n",
       "    .dataframe tbody tr th:only-of-type {\n",
       "        vertical-align: middle;\n",
       "    }\n",
       "\n",
       "    .dataframe tbody tr th {\n",
       "        vertical-align: top;\n",
       "    }\n",
       "\n",
       "    .dataframe thead th {\n",
       "        text-align: right;\n",
       "    }\n",
       "</style>\n",
       "<table border=\"1\" class=\"dataframe\">\n",
       "  <thead>\n",
       "    <tr style=\"text-align: right;\">\n",
       "      <th></th>\n",
       "      <th>variance</th>\n",
       "      <th>skewness</th>\n",
       "      <th>curtosis</th>\n",
       "      <th>entropy</th>\n",
       "      <th>class</th>\n",
       "    </tr>\n",
       "  </thead>\n",
       "  <tbody>\n",
       "    <tr>\n",
       "      <th>0</th>\n",
       "      <td>3.62160</td>\n",
       "      <td>8.66610</td>\n",
       "      <td>-2.8073</td>\n",
       "      <td>-0.44699</td>\n",
       "      <td>0</td>\n",
       "    </tr>\n",
       "    <tr>\n",
       "      <th>1</th>\n",
       "      <td>4.54590</td>\n",
       "      <td>8.16740</td>\n",
       "      <td>-2.4586</td>\n",
       "      <td>-1.46210</td>\n",
       "      <td>0</td>\n",
       "    </tr>\n",
       "    <tr>\n",
       "      <th>2</th>\n",
       "      <td>3.86600</td>\n",
       "      <td>-2.63830</td>\n",
       "      <td>1.9242</td>\n",
       "      <td>0.10645</td>\n",
       "      <td>0</td>\n",
       "    </tr>\n",
       "    <tr>\n",
       "      <th>3</th>\n",
       "      <td>3.45660</td>\n",
       "      <td>9.52280</td>\n",
       "      <td>-4.0112</td>\n",
       "      <td>-3.59440</td>\n",
       "      <td>0</td>\n",
       "    </tr>\n",
       "    <tr>\n",
       "      <th>4</th>\n",
       "      <td>0.32924</td>\n",
       "      <td>-4.45520</td>\n",
       "      <td>4.5718</td>\n",
       "      <td>-0.98880</td>\n",
       "      <td>0</td>\n",
       "    </tr>\n",
       "    <tr>\n",
       "      <th>...</th>\n",
       "      <td>...</td>\n",
       "      <td>...</td>\n",
       "      <td>...</td>\n",
       "      <td>...</td>\n",
       "      <td>...</td>\n",
       "    </tr>\n",
       "    <tr>\n",
       "      <th>1367</th>\n",
       "      <td>0.40614</td>\n",
       "      <td>1.34920</td>\n",
       "      <td>-1.4501</td>\n",
       "      <td>-0.55949</td>\n",
       "      <td>1</td>\n",
       "    </tr>\n",
       "    <tr>\n",
       "      <th>1368</th>\n",
       "      <td>-1.38870</td>\n",
       "      <td>-4.87730</td>\n",
       "      <td>6.4774</td>\n",
       "      <td>0.34179</td>\n",
       "      <td>1</td>\n",
       "    </tr>\n",
       "    <tr>\n",
       "      <th>1369</th>\n",
       "      <td>-3.75030</td>\n",
       "      <td>-13.45860</td>\n",
       "      <td>17.5932</td>\n",
       "      <td>-2.77710</td>\n",
       "      <td>1</td>\n",
       "    </tr>\n",
       "    <tr>\n",
       "      <th>1370</th>\n",
       "      <td>-3.56370</td>\n",
       "      <td>-8.38270</td>\n",
       "      <td>12.3930</td>\n",
       "      <td>-1.28230</td>\n",
       "      <td>1</td>\n",
       "    </tr>\n",
       "    <tr>\n",
       "      <th>1371</th>\n",
       "      <td>-2.54190</td>\n",
       "      <td>-0.65804</td>\n",
       "      <td>2.6842</td>\n",
       "      <td>1.19520</td>\n",
       "      <td>1</td>\n",
       "    </tr>\n",
       "  </tbody>\n",
       "</table>\n",
       "<p>1372 rows × 5 columns</p>\n",
       "</div>"
      ],
      "text/plain": [
       "      variance  skewness  curtosis  entropy  class\n",
       "0      3.62160   8.66610   -2.8073 -0.44699      0\n",
       "1      4.54590   8.16740   -2.4586 -1.46210      0\n",
       "2      3.86600  -2.63830    1.9242  0.10645      0\n",
       "3      3.45660   9.52280   -4.0112 -3.59440      0\n",
       "4      0.32924  -4.45520    4.5718 -0.98880      0\n",
       "...        ...       ...       ...      ...    ...\n",
       "1367   0.40614   1.34920   -1.4501 -0.55949      1\n",
       "1368  -1.38870  -4.87730    6.4774  0.34179      1\n",
       "1369  -3.75030 -13.45860   17.5932 -2.77710      1\n",
       "1370  -3.56370  -8.38270   12.3930 -1.28230      1\n",
       "1371  -2.54190  -0.65804    2.6842  1.19520      1\n",
       "\n",
       "[1372 rows x 5 columns]"
      ]
     },
     "execution_count": 3,
     "metadata": {},
     "output_type": "execute_result"
    }
   ],
   "source": [
    "file = '/Users/danichao/self_data/data_banknote_authentication.txt'\n",
    "data = pd.read_csv(file, header=None, names=['variance', 'skewness', 'curtosis', 'entropy', 'class'])\n",
    "data"
   ]
  },
  {
   "cell_type": "markdown",
   "id": "59f2a345-8eb1-46b6-8bad-94b498c7e4fc",
   "metadata": {},
   "source": [
    "# Data Exploration"
   ]
  },
  {
   "cell_type": "code",
   "execution_count": 4,
   "id": "8aa1355b-f1a9-454c-9305-9730e3c4a9cb",
   "metadata": {},
   "outputs": [
    {
     "data": {
      "text/plain": [
       "variance    0\n",
       "skewness    0\n",
       "curtosis    0\n",
       "entropy     0\n",
       "class       0\n",
       "dtype: int64"
      ]
     },
     "execution_count": 4,
     "metadata": {},
     "output_type": "execute_result"
    }
   ],
   "source": [
    "data.isnull().sum()"
   ]
  },
  {
   "cell_type": "code",
   "execution_count": 5,
   "id": "544f363f-208d-45a7-8634-6d19e6b49c5a",
   "metadata": {},
   "outputs": [
    {
     "name": "stdout",
     "output_type": "stream",
     "text": [
      "Number of true notes: 610\n",
      "Percentage of true notes: 0.4446064139941691\n"
     ]
    }
   ],
   "source": [
    "num_true = data['class'].sum()\n",
    "ratio_true = num_true/len(data)\n",
    "\n",
    "print(\"Number of true notes:\", num_true)\n",
    "print(\"Percentage of true notes:\", ratio_true)"
   ]
  },
  {
   "cell_type": "markdown",
   "id": "c9e156bd-98a6-498d-a9ff-c6d123818050",
   "metadata": {},
   "source": [
    "Among the 1372 notes, 610 are true/real notes."
   ]
  },
  {
   "cell_type": "code",
   "execution_count": 6,
   "id": "15a0fd07-03c1-4ce4-860e-63de4cd7afb1",
   "metadata": {},
   "outputs": [
    {
     "data": {
      "text/html": [
       "<div>\n",
       "<style scoped>\n",
       "    .dataframe tbody tr th:only-of-type {\n",
       "        vertical-align: middle;\n",
       "    }\n",
       "\n",
       "    .dataframe tbody tr th {\n",
       "        vertical-align: top;\n",
       "    }\n",
       "\n",
       "    .dataframe thead th {\n",
       "        text-align: right;\n",
       "    }\n",
       "</style>\n",
       "<table border=\"1\" class=\"dataframe\">\n",
       "  <thead>\n",
       "    <tr style=\"text-align: right;\">\n",
       "      <th></th>\n",
       "      <th>variance</th>\n",
       "      <th>skewness</th>\n",
       "      <th>curtosis</th>\n",
       "      <th>entropy</th>\n",
       "      <th>class</th>\n",
       "    </tr>\n",
       "  </thead>\n",
       "  <tbody>\n",
       "    <tr>\n",
       "      <th>count</th>\n",
       "      <td>1372.000000</td>\n",
       "      <td>1372.000000</td>\n",
       "      <td>1372.000000</td>\n",
       "      <td>1372.000000</td>\n",
       "      <td>1372.000000</td>\n",
       "    </tr>\n",
       "    <tr>\n",
       "      <th>mean</th>\n",
       "      <td>0.433735</td>\n",
       "      <td>1.922353</td>\n",
       "      <td>1.397627</td>\n",
       "      <td>-1.191657</td>\n",
       "      <td>0.444606</td>\n",
       "    </tr>\n",
       "    <tr>\n",
       "      <th>std</th>\n",
       "      <td>2.842763</td>\n",
       "      <td>5.869047</td>\n",
       "      <td>4.310030</td>\n",
       "      <td>2.101013</td>\n",
       "      <td>0.497103</td>\n",
       "    </tr>\n",
       "    <tr>\n",
       "      <th>min</th>\n",
       "      <td>-7.042100</td>\n",
       "      <td>-13.773100</td>\n",
       "      <td>-5.286100</td>\n",
       "      <td>-8.548200</td>\n",
       "      <td>0.000000</td>\n",
       "    </tr>\n",
       "    <tr>\n",
       "      <th>25%</th>\n",
       "      <td>-1.773000</td>\n",
       "      <td>-1.708200</td>\n",
       "      <td>-1.574975</td>\n",
       "      <td>-2.413450</td>\n",
       "      <td>0.000000</td>\n",
       "    </tr>\n",
       "    <tr>\n",
       "      <th>50%</th>\n",
       "      <td>0.496180</td>\n",
       "      <td>2.319650</td>\n",
       "      <td>0.616630</td>\n",
       "      <td>-0.586650</td>\n",
       "      <td>0.000000</td>\n",
       "    </tr>\n",
       "    <tr>\n",
       "      <th>75%</th>\n",
       "      <td>2.821475</td>\n",
       "      <td>6.814625</td>\n",
       "      <td>3.179250</td>\n",
       "      <td>0.394810</td>\n",
       "      <td>1.000000</td>\n",
       "    </tr>\n",
       "    <tr>\n",
       "      <th>max</th>\n",
       "      <td>6.824800</td>\n",
       "      <td>12.951600</td>\n",
       "      <td>17.927400</td>\n",
       "      <td>2.449500</td>\n",
       "      <td>1.000000</td>\n",
       "    </tr>\n",
       "  </tbody>\n",
       "</table>\n",
       "</div>"
      ],
      "text/plain": [
       "          variance     skewness     curtosis      entropy        class\n",
       "count  1372.000000  1372.000000  1372.000000  1372.000000  1372.000000\n",
       "mean      0.433735     1.922353     1.397627    -1.191657     0.444606\n",
       "std       2.842763     5.869047     4.310030     2.101013     0.497103\n",
       "min      -7.042100   -13.773100    -5.286100    -8.548200     0.000000\n",
       "25%      -1.773000    -1.708200    -1.574975    -2.413450     0.000000\n",
       "50%       0.496180     2.319650     0.616630    -0.586650     0.000000\n",
       "75%       2.821475     6.814625     3.179250     0.394810     1.000000\n",
       "max       6.824800    12.951600    17.927400     2.449500     1.000000"
      ]
     },
     "execution_count": 6,
     "metadata": {},
     "output_type": "execute_result"
    }
   ],
   "source": [
    "data.describe()"
   ]
  },
  {
   "cell_type": "code",
   "execution_count": 7,
   "id": "f568ce35-3957-43ae-a221-64cd36e2eb8e",
   "metadata": {},
   "outputs": [
    {
     "data": {
      "text/html": [
       "<div>\n",
       "<style scoped>\n",
       "    .dataframe tbody tr th:only-of-type {\n",
       "        vertical-align: middle;\n",
       "    }\n",
       "\n",
       "    .dataframe tbody tr th {\n",
       "        vertical-align: top;\n",
       "    }\n",
       "\n",
       "    .dataframe thead th {\n",
       "        text-align: right;\n",
       "    }\n",
       "</style>\n",
       "<table border=\"1\" class=\"dataframe\">\n",
       "  <thead>\n",
       "    <tr style=\"text-align: right;\">\n",
       "      <th></th>\n",
       "      <th>variance</th>\n",
       "      <th>skewness</th>\n",
       "      <th>curtosis</th>\n",
       "      <th>entropy</th>\n",
       "      <th>class</th>\n",
       "    </tr>\n",
       "  </thead>\n",
       "  <tbody>\n",
       "    <tr>\n",
       "      <th>count</th>\n",
       "      <td>610.000000</td>\n",
       "      <td>610.000000</td>\n",
       "      <td>610.000000</td>\n",
       "      <td>610.000000</td>\n",
       "      <td>610.0</td>\n",
       "    </tr>\n",
       "    <tr>\n",
       "      <th>mean</th>\n",
       "      <td>-1.868443</td>\n",
       "      <td>-0.993576</td>\n",
       "      <td>2.148271</td>\n",
       "      <td>-1.246641</td>\n",
       "      <td>1.0</td>\n",
       "    </tr>\n",
       "    <tr>\n",
       "      <th>std</th>\n",
       "      <td>1.881183</td>\n",
       "      <td>5.404884</td>\n",
       "      <td>5.261811</td>\n",
       "      <td>2.070984</td>\n",
       "      <td>0.0</td>\n",
       "    </tr>\n",
       "    <tr>\n",
       "      <th>min</th>\n",
       "      <td>-7.042100</td>\n",
       "      <td>-13.773100</td>\n",
       "      <td>-5.286100</td>\n",
       "      <td>-7.588700</td>\n",
       "      <td>1.0</td>\n",
       "    </tr>\n",
       "    <tr>\n",
       "      <th>25%</th>\n",
       "      <td>-3.061450</td>\n",
       "      <td>-5.810025</td>\n",
       "      <td>-1.357500</td>\n",
       "      <td>-2.458375</td>\n",
       "      <td>1.0</td>\n",
       "    </tr>\n",
       "    <tr>\n",
       "      <th>50%</th>\n",
       "      <td>-1.806100</td>\n",
       "      <td>0.172775</td>\n",
       "      <td>0.373720</td>\n",
       "      <td>-0.661650</td>\n",
       "      <td>1.0</td>\n",
       "    </tr>\n",
       "    <tr>\n",
       "      <th>75%</th>\n",
       "      <td>-0.541770</td>\n",
       "      <td>3.189275</td>\n",
       "      <td>5.626350</td>\n",
       "      <td>0.341790</td>\n",
       "      <td>1.0</td>\n",
       "    </tr>\n",
       "    <tr>\n",
       "      <th>max</th>\n",
       "      <td>2.391700</td>\n",
       "      <td>9.601400</td>\n",
       "      <td>17.927400</td>\n",
       "      <td>2.135300</td>\n",
       "      <td>1.0</td>\n",
       "    </tr>\n",
       "  </tbody>\n",
       "</table>\n",
       "</div>"
      ],
      "text/plain": [
       "         variance    skewness    curtosis     entropy  class\n",
       "count  610.000000  610.000000  610.000000  610.000000  610.0\n",
       "mean    -1.868443   -0.993576    2.148271   -1.246641    1.0\n",
       "std      1.881183    5.404884    5.261811    2.070984    0.0\n",
       "min     -7.042100  -13.773100   -5.286100   -7.588700    1.0\n",
       "25%     -3.061450   -5.810025   -1.357500   -2.458375    1.0\n",
       "50%     -1.806100    0.172775    0.373720   -0.661650    1.0\n",
       "75%     -0.541770    3.189275    5.626350    0.341790    1.0\n",
       "max      2.391700    9.601400   17.927400    2.135300    1.0"
      ]
     },
     "execution_count": 7,
     "metadata": {},
     "output_type": "execute_result"
    }
   ],
   "source": [
    "data[data['class'] == 1].describe()"
   ]
  },
  {
   "cell_type": "code",
   "execution_count": 8,
   "id": "d750b102-6568-4163-a89e-056bf193b191",
   "metadata": {},
   "outputs": [
    {
     "data": {
      "text/html": [
       "<div>\n",
       "<style scoped>\n",
       "    .dataframe tbody tr th:only-of-type {\n",
       "        vertical-align: middle;\n",
       "    }\n",
       "\n",
       "    .dataframe tbody tr th {\n",
       "        vertical-align: top;\n",
       "    }\n",
       "\n",
       "    .dataframe thead th {\n",
       "        text-align: right;\n",
       "    }\n",
       "</style>\n",
       "<table border=\"1\" class=\"dataframe\">\n",
       "  <thead>\n",
       "    <tr style=\"text-align: right;\">\n",
       "      <th></th>\n",
       "      <th>variance</th>\n",
       "      <th>skewness</th>\n",
       "      <th>curtosis</th>\n",
       "      <th>entropy</th>\n",
       "      <th>class</th>\n",
       "    </tr>\n",
       "  </thead>\n",
       "  <tbody>\n",
       "    <tr>\n",
       "      <th>count</th>\n",
       "      <td>762.000000</td>\n",
       "      <td>762.000000</td>\n",
       "      <td>762.000000</td>\n",
       "      <td>762.000000</td>\n",
       "      <td>762.0</td>\n",
       "    </tr>\n",
       "    <tr>\n",
       "      <th>mean</th>\n",
       "      <td>2.276686</td>\n",
       "      <td>4.256627</td>\n",
       "      <td>0.796718</td>\n",
       "      <td>-1.147640</td>\n",
       "      <td>0.0</td>\n",
       "    </tr>\n",
       "    <tr>\n",
       "      <th>std</th>\n",
       "      <td>2.019348</td>\n",
       "      <td>5.138792</td>\n",
       "      <td>3.239894</td>\n",
       "      <td>2.125077</td>\n",
       "      <td>0.0</td>\n",
       "    </tr>\n",
       "    <tr>\n",
       "      <th>min</th>\n",
       "      <td>-4.285900</td>\n",
       "      <td>-6.932100</td>\n",
       "      <td>-4.941700</td>\n",
       "      <td>-8.548200</td>\n",
       "      <td>0.0</td>\n",
       "    </tr>\n",
       "    <tr>\n",
       "      <th>25%</th>\n",
       "      <td>0.883345</td>\n",
       "      <td>0.450063</td>\n",
       "      <td>-1.709700</td>\n",
       "      <td>-2.228250</td>\n",
       "      <td>0.0</td>\n",
       "    </tr>\n",
       "    <tr>\n",
       "      <th>50%</th>\n",
       "      <td>2.553100</td>\n",
       "      <td>5.668800</td>\n",
       "      <td>0.700605</td>\n",
       "      <td>-0.552380</td>\n",
       "      <td>0.0</td>\n",
       "    </tr>\n",
       "    <tr>\n",
       "      <th>75%</th>\n",
       "      <td>3.884450</td>\n",
       "      <td>8.691975</td>\n",
       "      <td>2.652925</td>\n",
       "      <td>0.423257</td>\n",
       "      <td>0.0</td>\n",
       "    </tr>\n",
       "    <tr>\n",
       "      <th>max</th>\n",
       "      <td>6.824800</td>\n",
       "      <td>12.951600</td>\n",
       "      <td>8.829400</td>\n",
       "      <td>2.449500</td>\n",
       "      <td>0.0</td>\n",
       "    </tr>\n",
       "  </tbody>\n",
       "</table>\n",
       "</div>"
      ],
      "text/plain": [
       "         variance    skewness    curtosis     entropy  class\n",
       "count  762.000000  762.000000  762.000000  762.000000  762.0\n",
       "mean     2.276686    4.256627    0.796718   -1.147640    0.0\n",
       "std      2.019348    5.138792    3.239894    2.125077    0.0\n",
       "min     -4.285900   -6.932100   -4.941700   -8.548200    0.0\n",
       "25%      0.883345    0.450063   -1.709700   -2.228250    0.0\n",
       "50%      2.553100    5.668800    0.700605   -0.552380    0.0\n",
       "75%      3.884450    8.691975    2.652925    0.423257    0.0\n",
       "max      6.824800   12.951600    8.829400    2.449500    0.0"
      ]
     },
     "execution_count": 8,
     "metadata": {},
     "output_type": "execute_result"
    }
   ],
   "source": [
    "data[data['class'] == 0].describe()"
   ]
  },
  {
   "cell_type": "markdown",
   "id": "1f79cd97-198b-4cf6-9d29-913e07c2333b",
   "metadata": {},
   "source": [
    "Although we can see some trends in the descrbe tables, like true notes have lower `variance`, it is actually difficult to see a clear difference between true and fake notes among these four quantities, `variance`, `skewness`, `curtosis`, `and entropy`.\n",
    "\n",
    "It is better to visualize the distribution of these four quantities."
   ]
  },
  {
   "cell_type": "markdown",
   "id": "ba89aafa-da13-49a5-97db-346fd40bb8fb",
   "metadata": {},
   "source": [
    "# Visualization"
   ]
  },
  {
   "cell_type": "code",
   "execution_count": 9,
   "id": "35e4e5bb-1dfc-4e3f-9f62-3354c2679681",
   "metadata": {},
   "outputs": [],
   "source": [
    "from matplotlib import pyplot as plt\n",
    "import seaborn as sns"
   ]
  },
  {
   "cell_type": "code",
   "execution_count": 10,
   "id": "78f5fcea-5a99-4b09-9f21-76ea80f17538",
   "metadata": {},
   "outputs": [],
   "source": [
    "def FeatureDistribution(feature):\n",
    "    fig = plt.figure(figsize=(8,3.5))\n",
    "    sns.kdeplot(data.loc[data['class'] == 0, feature], color='r', shade=True, label=\"Fake\")\n",
    "    sns.kdeplot(data.loc[data['class'] == 1, feature], color='b', shade=True, label=\"True\",)\n",
    "    plt.xlabel(feature)\n",
    "    plt.ylabel('kernel density')\n",
    "    plt.legend()\n",
    "    plt.show()"
   ]
  },
  {
   "cell_type": "code",
   "execution_count": 11,
   "id": "d4e56c00-d480-46a1-bc4c-ff09ec70f013",
   "metadata": {},
   "outputs": [
    {
     "data": {
      "image/png": "[encoded data removed]",
      "text/plain": [
       "<Figure size 800x350 with 1 Axes>"
      ]
     },
     "metadata": {},
     "output_type": "display_data"
    },
    {
     "data": {
      "image/png": "[encoded data removed]",
      "text/plain": [
       "<Figure size 800x350 with 1 Axes>"
      ]
     },
     "metadata": {},
     "output_type": "display_data"
    },
    {
     "data": {
      "image/png": "[encoded data removed]",
      "text/plain": [
       "<Figure size 800x350 with 1 Axes>"
      ]
     },
     "metadata": {},
     "output_type": "display_data"
    },
    {
     "data": {
      "image/png": "[encoded data removed]",
      "text/plain": [
       "<Figure size 800x350 with 1 Axes>"
      ]
     },
     "metadata": {},
     "output_type": "display_data"
    }
   ],
   "source": [
    "FeatureDistribution('variance')\n",
    "FeatureDistribution('skewness')\n",
    "FeatureDistribution('curtosis')\n",
    "FeatureDistribution('entropy')"
   ]
  },
  {
   "cell_type": "markdown",
   "id": "d98481da-ffc3-49f6-83bc-f18859709d22",
   "metadata": {},
   "source": [
    "As the plots shown, true and fake notes overlap with each other among all four quantities, especially `entropy`. True and fake notes almost share same distribution on `entropy`. It suggests we need more sophisticated techniques to classify."
   ]
  },
  {
   "cell_type": "markdown",
   "id": "3cfb254b-6306-4c3a-9229-0862c52241c1",
   "metadata": {},
   "source": [
    "# Decide which features to use by checking the correlation among them"
   ]
  },
  {
   "cell_type": "code",
   "execution_count": 12,
   "id": "aafb6fc7-aa61-4889-b52c-fbd8b7178fb3",
   "metadata": {},
   "outputs": [
    {
     "data": {
      "text/html": [
       "<div>\n",
       "<style scoped>\n",
       "    .dataframe tbody tr th:only-of-type {\n",
       "        vertical-align: middle;\n",
       "    }\n",
       "\n",
       "    .dataframe tbody tr th {\n",
       "        vertical-align: top;\n",
       "    }\n",
       "\n",
       "    .dataframe thead th {\n",
       "        text-align: right;\n",
       "    }\n",
       "</style>\n",
       "<table border=\"1\" class=\"dataframe\">\n",
       "  <thead>\n",
       "    <tr style=\"text-align: right;\">\n",
       "      <th></th>\n",
       "      <th>variance</th>\n",
       "      <th>skewness</th>\n",
       "      <th>curtosis</th>\n",
       "      <th>entropy</th>\n",
       "      <th>class</th>\n",
       "    </tr>\n",
       "  </thead>\n",
       "  <tbody>\n",
       "    <tr>\n",
       "      <th>variance</th>\n",
       "      <td>1.000000</td>\n",
       "      <td>0.264026</td>\n",
       "      <td>-0.380850</td>\n",
       "      <td>0.276817</td>\n",
       "      <td>-0.724843</td>\n",
       "    </tr>\n",
       "    <tr>\n",
       "      <th>skewness</th>\n",
       "      <td>0.264026</td>\n",
       "      <td>1.000000</td>\n",
       "      <td>-0.786895</td>\n",
       "      <td>-0.526321</td>\n",
       "      <td>-0.444688</td>\n",
       "    </tr>\n",
       "    <tr>\n",
       "      <th>curtosis</th>\n",
       "      <td>-0.380850</td>\n",
       "      <td>-0.786895</td>\n",
       "      <td>1.000000</td>\n",
       "      <td>0.318841</td>\n",
       "      <td>0.155883</td>\n",
       "    </tr>\n",
       "    <tr>\n",
       "      <th>entropy</th>\n",
       "      <td>0.276817</td>\n",
       "      <td>-0.526321</td>\n",
       "      <td>0.318841</td>\n",
       "      <td>1.000000</td>\n",
       "      <td>-0.023424</td>\n",
       "    </tr>\n",
       "    <tr>\n",
       "      <th>class</th>\n",
       "      <td>-0.724843</td>\n",
       "      <td>-0.444688</td>\n",
       "      <td>0.155883</td>\n",
       "      <td>-0.023424</td>\n",
       "      <td>1.000000</td>\n",
       "    </tr>\n",
       "  </tbody>\n",
       "</table>\n",
       "</div>"
      ],
      "text/plain": [
       "          variance  skewness  curtosis   entropy     class\n",
       "variance  1.000000  0.264026 -0.380850  0.276817 -0.724843\n",
       "skewness  0.264026  1.000000 -0.786895 -0.526321 -0.444688\n",
       "curtosis -0.380850 -0.786895  1.000000  0.318841  0.155883\n",
       "entropy   0.276817 -0.526321  0.318841  1.000000 -0.023424\n",
       "class    -0.724843 -0.444688  0.155883 -0.023424  1.000000"
      ]
     },
     "execution_count": 12,
     "metadata": {},
     "output_type": "execute_result"
    }
   ],
   "source": [
    "corr = data.corr()\n",
    "corr"
   ]
  },
  {
   "cell_type": "code",
   "execution_count": 13,
   "id": "4fdf79a3-2253-4341-a12b-d88be60c4af6",
   "metadata": {},
   "outputs": [
    {
     "data": {
      "image/png": "[encoded data removed]",
      "text/plain": [
       "<Figure size 640x480 with 2 Axes>"
      ]
     },
     "metadata": {},
     "output_type": "display_data"
    }
   ],
   "source": [
    "sns.heatmap(data.corr(), xticklabels=corr.columns.values, yticklabels=corr.columns.values, annot=True)\n",
    "plt.show()"
   ]
  },
  {
   "cell_type": "markdown",
   "id": "d51f72c5-a0d8-4830-b64d-c2f3fd057d67",
   "metadata": {},
   "source": [
    "- `True-or-fake (class)` has nearly zero correlation with `entropy`.\n",
    "- Although `true-or-fake` correlates with `variance` the most, `skewness` and `curtosis` also have non-negligible correlations with `true-or-fake`.\n",
    "- Since `entropy` has sustantial correlation with all the other features, `variance`, `skewness`, and `curtosis`, we should probably not discard it even it has nearly zero correlation with `true-or-fake`.\n",
    "\n",
    "#### We will need to experiment on classification with different sets of features, and see the test results to decide which is the best for true-fake note classification"
   ]
  },
  {
   "cell_type": "markdown",
   "id": "3dc7afcf-0a5f-4250-bd1c-e8637c7b766e",
   "metadata": {},
   "source": [
    "# Logistic regression"
   ]
  },
  {
   "cell_type": "markdown",
   "id": "bde9813a-ce0f-43e2-a242-922c55d735d1",
   "metadata": {},
   "source": [
    "Logistic regression is an easy and most common method to do binary classification. Compared to other classification methods/models, logistic regression is also faster and more straight-forward. I will evaluate the classification performance with true-positive rate (TPR) and false-positive rate (FPR).\n",
    "\n",
    "Since features have various scales, I use `StandardScaler` to standardize/normalize the data to ensure the efficiency and quality of the modelling.\n",
    "\n",
    "I use `GridSearchCV` to optimize the model by tuning the hyperparameters. "
   ]
  },
  {
   "cell_type": "markdown",
   "id": "e3e32dd3-44b4-450b-9df7-1be88844bf11",
   "metadata": {},
   "source": [
    "## Use only variance and skewness to classify"
   ]
  },
  {
   "cell_type": "markdown",
   "id": "9d424134-8b81-4ae6-a4c1-c34bd389f518",
   "metadata": {},
   "source": [
    "Since `variance` and `skewness` are most correlated with `true-or-fake`, I first try use only these two features. If fewer features can already do a good-enough job, there is probably no need to use more features, given the concern of efficiency."
   ]
  },
  {
   "cell_type": "code",
   "execution_count": 14,
   "id": "8b16396e-38d2-4e41-990a-107f538107c3",
   "metadata": {},
   "outputs": [
    {
     "data": {
      "text/html": [
       "<div>\n",
       "<style scoped>\n",
       "    .dataframe tbody tr th:only-of-type {\n",
       "        vertical-align: middle;\n",
       "    }\n",
       "\n",
       "    .dataframe tbody tr th {\n",
       "        vertical-align: top;\n",
       "    }\n",
       "\n",
       "    .dataframe thead th {\n",
       "        text-align: right;\n",
       "    }\n",
       "</style>\n",
       "<table border=\"1\" class=\"dataframe\">\n",
       "  <thead>\n",
       "    <tr style=\"text-align: right;\">\n",
       "      <th></th>\n",
       "      <th>variance</th>\n",
       "      <th>skewness</th>\n",
       "      <th>class</th>\n",
       "    </tr>\n",
       "  </thead>\n",
       "  <tbody>\n",
       "    <tr>\n",
       "      <th>0</th>\n",
       "      <td>3.62160</td>\n",
       "      <td>8.6661</td>\n",
       "      <td>0</td>\n",
       "    </tr>\n",
       "    <tr>\n",
       "      <th>1</th>\n",
       "      <td>4.54590</td>\n",
       "      <td>8.1674</td>\n",
       "      <td>0</td>\n",
       "    </tr>\n",
       "    <tr>\n",
       "      <th>2</th>\n",
       "      <td>3.86600</td>\n",
       "      <td>-2.6383</td>\n",
       "      <td>0</td>\n",
       "    </tr>\n",
       "    <tr>\n",
       "      <th>3</th>\n",
       "      <td>3.45660</td>\n",
       "      <td>9.5228</td>\n",
       "      <td>0</td>\n",
       "    </tr>\n",
       "    <tr>\n",
       "      <th>4</th>\n",
       "      <td>0.32924</td>\n",
       "      <td>-4.4552</td>\n",
       "      <td>0</td>\n",
       "    </tr>\n",
       "  </tbody>\n",
       "</table>\n",
       "</div>"
      ],
      "text/plain": [
       "   variance  skewness  class\n",
       "0   3.62160    8.6661      0\n",
       "1   4.54590    8.1674      0\n",
       "2   3.86600   -2.6383      0\n",
       "3   3.45660    9.5228      0\n",
       "4   0.32924   -4.4552      0"
      ]
     },
     "execution_count": 14,
     "metadata": {},
     "output_type": "execute_result"
    }
   ],
   "source": [
    "data_feature = data.drop(['curtosis', 'entropy'], axis=1)\n",
    "data_feature.head()"
   ]
  },
  {
   "cell_type": "markdown",
   "id": "36448a24-6763-4396-9eca-8b37cd0225ec",
   "metadata": {},
   "source": [
    "### Model training preparation "
   ]
  },
  {
   "cell_type": "markdown",
   "id": "6418b976-8b3b-4327-a3ff-cec29f1520d3",
   "metadata": {},
   "source": [
    "Here we first standardize the feature values and split the dataset into training set and test set."
   ]
  },
  {
   "cell_type": "code",
   "execution_count": 15,
   "id": "1b93b591-d73e-49db-8d07-724454fb2522",
   "metadata": {},
   "outputs": [],
   "source": [
    "from sklearn.preprocessing import StandardScaler"
   ]
  },
  {
   "cell_type": "code",
   "execution_count": 16,
   "id": "94a9962c-79e2-4315-a5b2-ac04bbbca108",
   "metadata": {},
   "outputs": [],
   "source": [
    "# Standardization\n",
    "x_features = data_feature.drop(['class'], axis=1)\n",
    "y_label = data_feature['class'].values\n",
    "\n",
    "scaler = StandardScaler()\n",
    "\n",
    "x_features_scaled = pd.DataFrame(scaler.fit_transform(x_features), columns=x_features.columns)"
   ]
  },
  {
   "cell_type": "code",
   "execution_count": 17,
   "id": "1482b198-7ce2-47f4-a027-597fe47405b9",
   "metadata": {},
   "outputs": [],
   "source": [
    "from sklearn.model_selection import train_test_split, GridSearchCV \n",
    "from sklearn.linear_model import LogisticRegression"
   ]
  },
  {
   "cell_type": "code",
   "execution_count": 18,
   "id": "ae3bbee5-6097-429a-9b97-26ac76ed5160",
   "metadata": {},
   "outputs": [],
   "source": [
    "# Split into training set and test set\n",
    "x_train, x_test, y_train, y_test =  train_test_split(x_features_scaled, y_label, test_size=0.3, random_state=0)"
   ]
  },
  {
   "cell_type": "markdown",
   "id": "c3371124-a4b5-46e4-b4f8-397a4d5b8126",
   "metadata": {},
   "source": [
    "### Model training and hyperparameters tuning"
   ]
  },
  {
   "cell_type": "markdown",
   "id": "579a99c3-10eb-42fe-9b7d-09106e0afeba",
   "metadata": {},
   "source": [
    "Here we train the logistic regression model and tuning the hyperparameter, C, in the logistic regression model. The hyperparameter, C, decides the strength of regularization. (For logistic regression, we can also tune the regularization/penalty method, but for simplicity, I leave it to the default, which is l2.)\n",
    "\n",
    "The model training and tuning will be evaluated by the Area Under the Receiver Operating Characteristic Curve (ROC AUC), a relation between TPR and FPR. ROC AUC score is between 0 and 1, the closer to 1 the better the classification."
   ]
  },
  {
   "cell_type": "code",
   "execution_count": 19,
   "id": "512ed9a5-ddb4-4178-b075-c2c73a062d12",
   "metadata": {},
   "outputs": [],
   "source": [
    "# Define searching grid\n",
    "C_grid = 0.001*10**(np.arange(0, 1.01, 0.01)*3)\n",
    "parameters = {\"C\": C_grid}"
   ]
  },
  {
   "cell_type": "code",
   "execution_count": 20,
   "id": "5a68a603-e157-4e19-a04f-5a4640713d51",
   "metadata": {},
   "outputs": [],
   "source": [
    "# Train the model and tuning\n",
    "lr = LogisticRegression()\n",
    "\n",
    "grid_search = GridSearchCV(estimator=lr,\n",
    "                           param_grid=parameters,\n",
    "                           scoring='roc_auc', \n",
    "                           n_jobs=-1)\n",
    "\n",
    "grid_search_result = grid_search.fit(x_train, y_train)"
   ]
  },
  {
   "cell_type": "code",
   "execution_count": 21,
   "id": "baf97e10-d100-4e38-a072-d6b01a6edf6f",
   "metadata": {},
   "outputs": [
    {
     "name": "stdout",
     "output_type": "stream",
     "text": [
      "Best ROC AUC score: 0.9544537077665642\n",
      "Optimized value of C: {'C': 0.0034673685045253167}\n"
     ]
    }
   ],
   "source": [
    "print(\"Best ROC AUC score:\", grid_search_result.best_score_)\n",
    "print(\"Optimized value of C:\", grid_search_result.best_params_)"
   ]
  },
  {
   "cell_type": "code",
   "execution_count": 22,
   "id": "11c8566a-b181-409c-b6e6-46be8e68731a",
   "metadata": {},
   "outputs": [],
   "source": [
    "# Get the optimized model for evaluation\n",
    "lr_optimized = grid_search_result.best_estimator_"
   ]
  },
  {
   "cell_type": "markdown",
   "id": "352aa9f9-05b2-4384-acb0-39957f4d3461",
   "metadata": {},
   "source": [
    "### Evaluate the classification performance"
   ]
  },
  {
   "cell_type": "markdown",
   "id": "22263cc0-d16e-445d-8687-520d3839427b",
   "metadata": {},
   "source": [
    "Now we examine the classification performance through metrics like precision and accuracy. We also visualize the ROC AUC scores.\n",
    "\n",
    "***Note: What logistic regression predict is the probability of a bank note to be true, which is the value `predict_proba` returns. `predict` returns the binary classification 0 (fake) or 1 (true) based on the mentioned probability and a threshold cut of the probability (fake < 0.5, true > 0.5).***"
   ]
  },
  {
   "cell_type": "code",
   "execution_count": 23,
   "id": "1ef7bfba-e50a-44f5-99c9-70b0304faa9a",
   "metadata": {},
   "outputs": [],
   "source": [
    "from sklearn.metrics import confusion_matrix, precision_score, recall_score, f1_score, roc_curve, roc_auc_score, accuracy_score"
   ]
  },
  {
   "cell_type": "code",
   "execution_count": 24,
   "id": "44254750-510a-4c25-87de-c4d09884ef1b",
   "metadata": {},
   "outputs": [],
   "source": [
    "def PerformanceReport(optimized_model, x_train, x_test, y_train, y_test):\n",
    "    y_train_predict = optimized_model.predict(x_train)\n",
    "    y_train_predict_prob = optimized_model.predict_proba(x_train)[:, 1] \n",
    "\n",
    "    y_test_predict = optimized_model.predict(x_test)\n",
    "    y_test_predict_prob = optimized_model.predict_proba(x_test)[:, 1]\n",
    "\n",
    "    train_confusion_mat = confusion_matrix(y_train, y_train_predict)\n",
    "    test_confusion_mat = confusion_matrix(y_test, y_test_predict)\n",
    "\n",
    "    train_tn, train_fp, train_fn, train_tp = train_confusion_mat.ravel()\n",
    "    test_tn, test_fp, test_fn, test_tp = test_confusion_mat.ravel()\n",
    "\n",
    "    print('Training true positive:', train_tp)\n",
    "    print('Training false positive:', train_fp)\n",
    "    print('Training true negative:', train_tn)\n",
    "    print('Training false negative:', train_fn)\n",
    "    print('\\n')\n",
    "    print('Test true positive:', test_tp)\n",
    "    print('Test false positive:', test_fp)\n",
    "    print('Test true negative:', test_tn)\n",
    "    print('Test false negative:', test_fn)\n",
    "    \n",
    "    print('\\n')\n",
    "    print('=======')\n",
    "    print('ROC AUC score of training set:', roc_auc_score(y_train, y_train_predict_prob))\n",
    "    print('ROC AUC score of test set:', roc_auc_score(y_test, y_test_predict_prob))\n",
    "    print('=======')\n",
    "    print('Classification accuracy of training set:', accuracy_score(y_train, y_train_predict))\n",
    "    print('Classification accuracy of test set:', accuracy_score(y_test, y_test_predict))\n",
    "    print('=======')\n",
    "    print('Classification precision of training set:', precision_score(y_train, y_train_predict))\n",
    "    print('Classification precision of test set:', precision_score(y_test, y_test_predict))\n",
    "    print('=======')\n",
    "    print('Classification recall of training set:', recall_score(y_train, y_train_predict))\n",
    "    print('Classification recall of test set:', recall_score(y_test, y_test_predict))\n",
    "    print('=======')\n",
    "    print('Classification f1 score of training set:', f1_score(y_train, y_train_predict))\n",
    "    print('Classification f1 score of test set:', f1_score(y_test, y_test_predict))"
   ]
  },
  {
   "cell_type": "code",
   "execution_count": 25,
   "id": "24b8ae52-d4c3-4149-87eb-b1d24e0f3f32",
   "metadata": {},
   "outputs": [],
   "source": [
    "def PlotROC(optimized_model, x_test, y_test):\n",
    "    y_test_predict_prob = optimized_model.predict_proba(x_test)[:, 1]\n",
    "    fpr_test, tpr_test, thresh_test = roc_curve(y_test, y_test_predict_prob)\n",
    "    test_roc_auc = roc_auc_score(y_test, y_test_predict_prob)\n",
    "\n",
    "    fig = plt.figure()\n",
    "    plt.plot(fpr_test, tpr_test, color='r', lw=2)\n",
    "    plt.plot([0, 1], [0, 1], color='b', lw=2, linestyle='--')\n",
    "    plt.xlim([-0.05, 1.05])\n",
    "    plt.ylim([-0.05, 1.05])\n",
    "    plt.xlabel('False Positive Rate')\n",
    "    plt.ylabel('True Positive Rate')\n",
    "    plt.title('ROC Curve (Area = {:.2f})'.format(test_roc_auc))\n",
    "    plt.show()"
   ]
  },
  {
   "cell_type": "markdown",
   "id": "484b9c65-3c0c-4111-b304-30cd3c459ae0",
   "metadata": {},
   "source": [
    "The reason I write functions here is to easily repeat the examination when we use different sets of features."
   ]
  },
  {
   "cell_type": "code",
   "execution_count": 26,
   "id": "3f3a08fa-bef0-45e9-8bd3-f23e631ad446",
   "metadata": {},
   "outputs": [
    {
     "name": "stdout",
     "output_type": "stream",
     "text": [
      "Training true positive: 329\n",
      "Training false positive: 25\n",
      "Training true negative: 505\n",
      "Training false negative: 101\n",
      "\n",
      "\n",
      "Test true positive: 142\n",
      "Test false positive: 13\n",
      "Test true negative: 219\n",
      "Test false negative: 38\n",
      "\n",
      "\n",
      "=======\n",
      "ROC AUC score of training set: 0.9549802544975866\n",
      "ROC AUC score of test set: 0.9596503831417624\n",
      "=======\n",
      "Classification accuracy of training set: 0.86875\n",
      "Classification accuracy of test set: 0.8762135922330098\n",
      "=======\n",
      "Classification precision of training set: 0.9293785310734464\n",
      "Classification precision of test set: 0.9161290322580645\n",
      "=======\n",
      "Classification recall of training set: 0.7651162790697674\n",
      "Classification recall of test set: 0.7888888888888889\n",
      "=======\n",
      "Classification f1 score of training set: 0.8392857142857143\n",
      "Classification f1 score of test set: 0.8477611940298507\n"
     ]
    }
   ],
   "source": [
    "PerformanceReport(lr_optimized, x_train, x_test, y_train, y_test)"
   ]
  },
  {
   "cell_type": "code",
   "execution_count": 27,
   "id": "b04eb863-b1f5-4368-9fa0-99120ef548de",
   "metadata": {},
   "outputs": [
    {
     "data": {
      "image/png": "[encoded data removed]",
      "text/plain": [
       "<Figure size 640x480 with 1 Axes>"
      ]
     },
     "metadata": {},
     "output_type": "display_data"
    }
   ],
   "source": [
    "PlotROC(lr_optimized, x_test, y_test)"
   ]
  },
  {
   "cell_type": "markdown",
   "id": "e8161fe5-029a-4d08-867e-0779a6cb7fb0",
   "metadata": {},
   "source": [
    "#### In the case of true/fake bank note classification, false positives are costy - if you are a shop owner, you would rather misclassify a true bank note as a fake ones and ask the customer to give you another one than accepting a fake bank note and losing money. (Recall is not very important in our case here.)\n",
    "\n",
    "#### Although our logistic regression model with two features, `variance` and `skewness`, seems to be over-careful and tends to classify bank notes as fake ones, it actually works well in the sense that it really helps us not losing money!"
   ]
  },
  {
   "cell_type": "markdown",
   "id": "aa59e4e2-ec06-49e9-be60-b5d5afa304ab",
   "metadata": {},
   "source": [
    "## Using one more feature, curtosis"
   ]
  },
  {
   "cell_type": "markdown",
   "id": "0a1eb14d-45a6-462e-8e0e-f89726f19320",
   "metadata": {},
   "source": [
    "Now I want to see if I can have an even better logistic regression model by including `curtosis` in modeling. Since `curtosis` is more related with `true-or-fake` than `entropy`, I choose to include `curtosis`. "
   ]
  },
  {
   "cell_type": "code",
   "execution_count": 28,
   "id": "85eb0fad-b72b-444d-a941-4dd0c788c488",
   "metadata": {},
   "outputs": [],
   "source": [
    "# Include curtosis and repeat above\n",
    "data_feature = data.drop(['entropy'], axis=1)\n",
    "\n",
    "x_features = data_feature.drop(['class'], axis=1)\n",
    "y_label = data_feature['class'].values\n",
    "\n",
    "# Standardize/normalization\n",
    "scaler = StandardScaler()\n",
    "x_features_scaled = pd.DataFrame(scaler.fit_transform(x_features), columns=x_features.columns)\n",
    "\n",
    "# Split into training and test sets\n",
    "x_train, x_test, y_train, y_test =  train_test_split(x_features_scaled, y_label, test_size=0.3, random_state=0)"
   ]
  },
  {
   "cell_type": "code",
   "execution_count": 29,
   "id": "40df9136-f9c2-40fb-91f9-16c809fc6e3a",
   "metadata": {},
   "outputs": [
    {
     "name": "stdout",
     "output_type": "stream",
     "text": [
      "Best ROC AUC score: 0.9997367266344888\n",
      "Optimized value of C: {'C': 0.5754399373371573}\n"
     ]
    }
   ],
   "source": [
    "# Training model and tuning hyperparameters\n",
    "lr_three_feature = LogisticRegression()\n",
    "\n",
    "C_grid = 0.001*10**(np.arange(0, 1.01, 0.01)*3)\n",
    "parameters = {\"C\": C_grid}\n",
    "\n",
    "grid_search = GridSearchCV(estimator=lr_three_feature,\n",
    "                           param_grid=parameters,\n",
    "                           scoring='roc_auc', \n",
    "                           n_jobs=-1)\n",
    "\n",
    "grid_search_result = grid_search.fit(x_train, y_train)\n",
    "\n",
    "print(\"Best ROC AUC score:\", grid_search_result.best_score_)\n",
    "print(\"Optimized value of C:\", grid_search_result.best_params_)"
   ]
  },
  {
   "cell_type": "markdown",
   "id": "ad564eb2-70a1-4f63-b8e7-275098876e41",
   "metadata": {},
   "source": [
    "By adding `curtosis`, the logistic regression model improves a lot! (from 0.95 to 0.99)"
   ]
  },
  {
   "cell_type": "code",
   "execution_count": 30,
   "id": "a76d8d96-5f3a-4c30-ad2d-bfc3350fde53",
   "metadata": {},
   "outputs": [],
   "source": [
    "lr_three_feature_optimized = grid_search_result.best_estimator_"
   ]
  },
  {
   "cell_type": "markdown",
   "id": "4a7a3d7b-f38f-4027-9137-86c1aa5c02a0",
   "metadata": {},
   "source": [
    "### Classification performance including curtosis"
   ]
  },
  {
   "cell_type": "code",
   "execution_count": 31,
   "id": "179ea566-b0b7-4ae7-9a25-fb77b3e46938",
   "metadata": {},
   "outputs": [
    {
     "name": "stdout",
     "output_type": "stream",
     "text": [
      "Training true positive: 428\n",
      "Training false positive: 16\n",
      "Training true negative: 514\n",
      "Training false negative: 2\n",
      "\n",
      "\n",
      "Test true positive: 180\n",
      "Test false positive: 7\n",
      "Test true negative: 225\n",
      "Test false negative: 0\n",
      "\n",
      "\n",
      "=======\n",
      "ROC AUC score of training set: 0.9995831505046073\n",
      "ROC AUC score of test set: 0.9998084291187739\n",
      "=======\n",
      "Classification accuracy of training set: 0.98125\n",
      "Classification accuracy of test set: 0.9830097087378641\n",
      "=======\n",
      "Classification precision of training set: 0.963963963963964\n",
      "Classification precision of test set: 0.9625668449197861\n",
      "=======\n",
      "Classification recall of training set: 0.9953488372093023\n",
      "Classification recall of test set: 1.0\n",
      "=======\n",
      "Classification f1 score of training set: 0.9794050343249427\n",
      "Classification f1 score of test set: 0.9809264305177112\n"
     ]
    }
   ],
   "source": [
    "PerformanceReport(lr_three_feature_optimized, x_train, x_test, y_train, y_test)"
   ]
  },
  {
   "cell_type": "code",
   "execution_count": 32,
   "id": "a00bd8f7-117f-4429-9ef8-337c52711849",
   "metadata": {},
   "outputs": [
    {
     "data": {
      "image/png": "[encoded data removed]",
      "text/plain": [
       "<Figure size 640x480 with 1 Axes>"
      ]
     },
     "metadata": {},
     "output_type": "display_data"
    }
   ],
   "source": [
    "PlotROC(lr_three_feature_optimized, x_test, y_test)"
   ]
  },
  {
   "cell_type": "markdown",
   "id": "560dc086-37cf-4f3c-9986-a9f587538d15",
   "metadata": {},
   "source": [
    "After adding `curtosis`, we have an even better logistic regression model which works nearlly perfect!\n",
    "\n",
    "The three-feature logistic regression model has a lower false-positive rate and a much lower false-negative rate that is nearlly zero! In other words, ***you will lose less money and get much less customer complaints (because you do not mis-reject their bank note). Your shop will get more five stars!*** "
   ]
  },
  {
   "cell_type": "markdown",
   "id": "d6799fd6-4360-4ffc-8c18-4ef63295758f",
   "metadata": {},
   "source": [
    "### Although three features already work more than good enough, we can still check if entropy really helps us to reject all the fake notes"
   ]
  },
  {
   "cell_type": "code",
   "execution_count": 33,
   "id": "ce67d54e-4a02-43af-aa33-136f91387a68",
   "metadata": {},
   "outputs": [],
   "source": [
    "x_features = data.drop(['class'], axis=1)\n",
    "y_label = data['class'].values\n",
    "\n",
    "scaler = StandardScaler()\n",
    "x_features_scaled = pd.DataFrame(scaler.fit_transform(x_features), columns=x_features.columns)\n",
    "\n",
    "x_train, x_test, y_train, y_test =  train_test_split(x_features_scaled, y_label, test_size=0.3, random_state=0)"
   ]
  },
  {
   "cell_type": "code",
   "execution_count": 34,
   "id": "bd79fe2c-8da0-40a3-a137-e9b8127e6ba5",
   "metadata": {},
   "outputs": [
    {
     "name": "stdout",
     "output_type": "stream",
     "text": [
      "Best ROC AUC score: 0.999692847740237\n",
      "Optimized value of C: {'C': 1.0}\n"
     ]
    }
   ],
   "source": [
    "lr_total = LogisticRegression()\n",
    "\n",
    "C_grid = 0.001*10**(np.arange(0, 1.01, 0.01)*3)\n",
    "parameters = {\"C\": C_grid}\n",
    "\n",
    "grid_search = GridSearchCV(estimator=lr_total,\n",
    "                           param_grid=parameters,\n",
    "                           scoring='roc_auc', \n",
    "                           n_jobs=-1)\n",
    "\n",
    "grid_search_result = grid_search.fit(x_train, y_train)\n",
    "\n",
    "print(\"Best ROC AUC score:\", grid_search_result.best_score_)\n",
    "print(\"Optimized value of C:\", grid_search_result.best_params_)"
   ]
  },
  {
   "cell_type": "markdown",
   "id": "0715f6ed-ac6f-4f33-a1ba-14d24bb69f3d",
   "metadata": {},
   "source": [
    "The same as using only three features, as expected."
   ]
  },
  {
   "cell_type": "code",
   "execution_count": 35,
   "id": "aa8e402d-5c5e-4719-b55c-e5e27a693c02",
   "metadata": {},
   "outputs": [],
   "source": [
    "lr_total_optimized = grid_search_result.best_estimator_"
   ]
  },
  {
   "cell_type": "code",
   "execution_count": 36,
   "id": "066e3455-9df6-440c-950e-8d0a38d2104e",
   "metadata": {},
   "outputs": [
    {
     "name": "stdout",
     "output_type": "stream",
     "text": [
      "Training true positive: 428\n",
      "Training false positive: 16\n",
      "Training true negative: 514\n",
      "Training false negative: 2\n",
      "\n",
      "\n",
      "Test true positive: 180\n",
      "Test false positive: 7\n",
      "Test true negative: 225\n",
      "Test false negative: 0\n",
      "\n",
      "\n",
      "=======\n",
      "ROC AUC score of training set: 0.9996182536200088\n",
      "ROC AUC score of test set: 0.9998563218390805\n",
      "=======\n",
      "Classification accuracy of training set: 0.98125\n",
      "Classification accuracy of test set: 0.9830097087378641\n",
      "=======\n",
      "Classification precision of training set: 0.963963963963964\n",
      "Classification precision of test set: 0.9625668449197861\n",
      "=======\n",
      "Classification recall of training set: 0.9953488372093023\n",
      "Classification recall of test set: 1.0\n",
      "=======\n",
      "Classification f1 score of training set: 0.9794050343249427\n",
      "Classification f1 score of test set: 0.9809264305177112\n"
     ]
    }
   ],
   "source": [
    "PerformanceReport(lr_total_optimized, x_train, x_test, y_train, y_test)"
   ]
  },
  {
   "cell_type": "markdown",
   "id": "ac651b00-c5df-4a11-9568-a40b656e4dd3",
   "metadata": {},
   "source": [
    "Exactly the same as using three features..."
   ]
  },
  {
   "cell_type": "markdown",
   "id": "35e1e90a-87d2-44cd-8ade-52be9b071f2e",
   "metadata": {},
   "source": [
    "## Entropy is a redundant feature in the true/fake bank note classification "
   ]
  },
  {
   "cell_type": "code",
   "execution_count": null,
   "id": "102b7e20-ab45-4e69-9c86-635645221d6b",
   "metadata": {},
   "outputs": [],
   "source": []
  }
 ],
 "metadata": {
  "kernelspec": {
   "display_name": "Python 3 (ipykernel)",
   "language": "python",
   "name": "python3"
  },
  "language_info": {
   "codemirror_mode": {
    "name": "ipython",
    "version": 3
   },
   "file_extension": ".py",
   "mimetype": "text/x-python",
   "name": "python",
   "nbconvert_exporter": "python",
   "pygments_lexer": "ipython3",
   "version": "3.11.3"
  }
 },
 "nbformat": 4,
 "nbformat_minor": 5
}
