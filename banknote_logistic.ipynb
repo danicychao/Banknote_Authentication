{
 "cells": [
  {
   "cell_type": "code",
   "execution_count": 1,
   "id": "8da7a692-95e8-4940-9a18-fddb67255262",
   "metadata": {},
   "outputs": [],
   "source": [
    "import warnings\n",
    "warnings.filterwarnings('ignore')"
   ]
  },
  {
   "cell_type": "code",
   "execution_count": 2,
   "id": "1a365188-8adb-4801-89b8-c97978deb6a4",
   "metadata": {},
   "outputs": [],
   "source": [
    "import numpy as np\n",
    "import pandas as pd"
   ]
  },
  {
   "cell_type": "markdown",
   "id": "7b22a5af-df32-4767-9c65-ee860b3ef7cc",
   "metadata": {},
   "source": [
    "## 1. Load data"
   ]
  },
  {
   "cell_type": "code",
   "execution_count": 3,
   "id": "5455d913-de15-4372-87ec-bd3df4ad3660",
   "metadata": {},
   "outputs": [
    {
     "data": {
      "text/html": [
       "<div>\n",
       "<style scoped>\n",
       "    .dataframe tbody tr th:only-of-type {\n",
       "        vertical-align: middle;\n",
       "    }\n",
       "\n",
       "    .dataframe tbody tr th {\n",
       "        vertical-align: top;\n",
       "    }\n",
       "\n",
       "    .dataframe thead th {\n",
       "        text-align: right;\n",
       "    }\n",
       "</style>\n",
       "<table border=\"1\" class=\"dataframe\">\n",
       "  <thead>\n",
       "    <tr style=\"text-align: right;\">\n",
       "      <th></th>\n",
       "      <th>variance</th>\n",
       "      <th>skewness</th>\n",
       "      <th>curtosis</th>\n",
       "      <th>entropy</th>\n",
       "      <th>class</th>\n",
       "    </tr>\n",
       "  </thead>\n",
       "  <tbody>\n",
       "    <tr>\n",
       "      <th>0</th>\n",
       "      <td>3.62160</td>\n",
       "      <td>8.66610</td>\n",
       "      <td>-2.8073</td>\n",
       "      <td>-0.44699</td>\n",
       "      <td>0</td>\n",
       "    </tr>\n",
       "    <tr>\n",
       "      <th>1</th>\n",
       "      <td>4.54590</td>\n",
       "      <td>8.16740</td>\n",
       "      <td>-2.4586</td>\n",
       "      <td>-1.46210</td>\n",
       "      <td>0</td>\n",
       "    </tr>\n",
       "    <tr>\n",
       "      <th>2</th>\n",
       "      <td>3.86600</td>\n",
       "      <td>-2.63830</td>\n",
       "      <td>1.9242</td>\n",
       "      <td>0.10645</td>\n",
       "      <td>0</td>\n",
       "    </tr>\n",
       "    <tr>\n",
       "      <th>3</th>\n",
       "      <td>3.45660</td>\n",
       "      <td>9.52280</td>\n",
       "      <td>-4.0112</td>\n",
       "      <td>-3.59440</td>\n",
       "      <td>0</td>\n",
       "    </tr>\n",
       "    <tr>\n",
       "      <th>4</th>\n",
       "      <td>0.32924</td>\n",
       "      <td>-4.45520</td>\n",
       "      <td>4.5718</td>\n",
       "      <td>-0.98880</td>\n",
       "      <td>0</td>\n",
       "    </tr>\n",
       "    <tr>\n",
       "      <th>...</th>\n",
       "      <td>...</td>\n",
       "      <td>...</td>\n",
       "      <td>...</td>\n",
       "      <td>...</td>\n",
       "      <td>...</td>\n",
       "    </tr>\n",
       "    <tr>\n",
       "      <th>1367</th>\n",
       "      <td>0.40614</td>\n",
       "      <td>1.34920</td>\n",
       "      <td>-1.4501</td>\n",
       "      <td>-0.55949</td>\n",
       "      <td>1</td>\n",
       "    </tr>\n",
       "    <tr>\n",
       "      <th>1368</th>\n",
       "      <td>-1.38870</td>\n",
       "      <td>-4.87730</td>\n",
       "      <td>6.4774</td>\n",
       "      <td>0.34179</td>\n",
       "      <td>1</td>\n",
       "    </tr>\n",
       "    <tr>\n",
       "      <th>1369</th>\n",
       "      <td>-3.75030</td>\n",
       "      <td>-13.45860</td>\n",
       "      <td>17.5932</td>\n",
       "      <td>-2.77710</td>\n",
       "      <td>1</td>\n",
       "    </tr>\n",
       "    <tr>\n",
       "      <th>1370</th>\n",
       "      <td>-3.56370</td>\n",
       "      <td>-8.38270</td>\n",
       "      <td>12.3930</td>\n",
       "      <td>-1.28230</td>\n",
       "      <td>1</td>\n",
       "    </tr>\n",
       "    <tr>\n",
       "      <th>1371</th>\n",
       "      <td>-2.54190</td>\n",
       "      <td>-0.65804</td>\n",
       "      <td>2.6842</td>\n",
       "      <td>1.19520</td>\n",
       "      <td>1</td>\n",
       "    </tr>\n",
       "  </tbody>\n",
       "</table>\n",
       "<p>1372 rows × 5 columns</p>\n",
       "</div>"
      ],
      "text/plain": [
       "      variance  skewness  curtosis  entropy  class\n",
       "0      3.62160   8.66610   -2.8073 -0.44699      0\n",
       "1      4.54590   8.16740   -2.4586 -1.46210      0\n",
       "2      3.86600  -2.63830    1.9242  0.10645      0\n",
       "3      3.45660   9.52280   -4.0112 -3.59440      0\n",
       "4      0.32924  -4.45520    4.5718 -0.98880      0\n",
       "...        ...       ...       ...      ...    ...\n",
       "1367   0.40614   1.34920   -1.4501 -0.55949      1\n",
       "1368  -1.38870  -4.87730    6.4774  0.34179      1\n",
       "1369  -3.75030 -13.45860   17.5932 -2.77710      1\n",
       "1370  -3.56370  -8.38270   12.3930 -1.28230      1\n",
       "1371  -2.54190  -0.65804    2.6842  1.19520      1\n",
       "\n",
       "[1372 rows x 5 columns]"
      ]
     },
     "execution_count": 3,
     "metadata": {},
     "output_type": "execute_result"
    }
   ],
   "source": [
    "file = 'data_banknote_authentication.txt'\n",
    "data = pd.read_csv(file, header=None, names=['variance', 'skewness', 'curtosis', 'entropy', 'class'])\n",
    "data"
   ]
  },
  {
   "cell_type": "markdown",
   "id": "feef9530-7834-4766-ac5b-4f6cc7b19bff",
   "metadata": {},
   "source": [
    "Class 1 is fake banknote, and class 0 is true banknote."
   ]
  },
  {
   "cell_type": "markdown",
   "id": "59f2a345-8eb1-46b6-8bad-94b498c7e4fc",
   "metadata": {},
   "source": [
    "## 2. Data Exploration"
   ]
  },
  {
   "cell_type": "code",
   "execution_count": 4,
   "id": "8aa1355b-f1a9-454c-9305-9730e3c4a9cb",
   "metadata": {},
   "outputs": [
    {
     "data": {
      "text/plain": [
       "variance    0\n",
       "skewness    0\n",
       "curtosis    0\n",
       "entropy     0\n",
       "class       0\n",
       "dtype: int64"
      ]
     },
     "execution_count": 4,
     "metadata": {},
     "output_type": "execute_result"
    }
   ],
   "source": [
    "data.isnull().sum()"
   ]
  },
  {
   "cell_type": "markdown",
   "id": "cfd4830b-5565-4b33-a380-b335bdfa5215",
   "metadata": {},
   "source": [
    "Great that we do not have null values :)"
   ]
  },
  {
   "cell_type": "code",
   "execution_count": 5,
   "id": "544f363f-208d-45a7-8634-6d19e6b49c5a",
   "metadata": {},
   "outputs": [
    {
     "name": "stdout",
     "output_type": "stream",
     "text": [
      "Number of fake banknotes: 610\n",
      "Percentage of fake banknotes: 0.4446064139941691\n"
     ]
    }
   ],
   "source": [
    "num_fake = data['class'].sum()\n",
    "ratio_fake = num_fake/len(data)\n",
    "\n",
    "print(\"Number of fake banknotes:\", num_fake)\n",
    "print(\"Percentage of fake banknotes:\", ratio_fake)"
   ]
  },
  {
   "cell_type": "markdown",
   "id": "c9e156bd-98a6-498d-a9ff-c6d123818050",
   "metadata": {},
   "source": [
    "Among the 1372 banknotes, 610 are fake banknotes. The dataset is balanced in true and fake banknotes."
   ]
  },
  {
   "cell_type": "code",
   "execution_count": 6,
   "id": "f568ce35-3957-43ae-a221-64cd36e2eb8e",
   "metadata": {},
   "outputs": [
    {
     "data": {
      "text/html": [
       "<div>\n",
       "<style scoped>\n",
       "    .dataframe tbody tr th:only-of-type {\n",
       "        vertical-align: middle;\n",
       "    }\n",
       "\n",
       "    .dataframe tbody tr th {\n",
       "        vertical-align: top;\n",
       "    }\n",
       "\n",
       "    .dataframe thead th {\n",
       "        text-align: right;\n",
       "    }\n",
       "</style>\n",
       "<table border=\"1\" class=\"dataframe\">\n",
       "  <thead>\n",
       "    <tr style=\"text-align: right;\">\n",
       "      <th></th>\n",
       "      <th>variance</th>\n",
       "      <th>skewness</th>\n",
       "      <th>curtosis</th>\n",
       "      <th>entropy</th>\n",
       "      <th>class</th>\n",
       "    </tr>\n",
       "  </thead>\n",
       "  <tbody>\n",
       "    <tr>\n",
       "      <th>count</th>\n",
       "      <td>610.000000</td>\n",
       "      <td>610.000000</td>\n",
       "      <td>610.000000</td>\n",
       "      <td>610.000000</td>\n",
       "      <td>610.0</td>\n",
       "    </tr>\n",
       "    <tr>\n",
       "      <th>mean</th>\n",
       "      <td>-1.868443</td>\n",
       "      <td>-0.993576</td>\n",
       "      <td>2.148271</td>\n",
       "      <td>-1.246641</td>\n",
       "      <td>1.0</td>\n",
       "    </tr>\n",
       "    <tr>\n",
       "      <th>std</th>\n",
       "      <td>1.881183</td>\n",
       "      <td>5.404884</td>\n",
       "      <td>5.261811</td>\n",
       "      <td>2.070984</td>\n",
       "      <td>0.0</td>\n",
       "    </tr>\n",
       "    <tr>\n",
       "      <th>min</th>\n",
       "      <td>-7.042100</td>\n",
       "      <td>-13.773100</td>\n",
       "      <td>-5.286100</td>\n",
       "      <td>-7.588700</td>\n",
       "      <td>1.0</td>\n",
       "    </tr>\n",
       "    <tr>\n",
       "      <th>25%</th>\n",
       "      <td>-3.061450</td>\n",
       "      <td>-5.810025</td>\n",
       "      <td>-1.357500</td>\n",
       "      <td>-2.458375</td>\n",
       "      <td>1.0</td>\n",
       "    </tr>\n",
       "    <tr>\n",
       "      <th>50%</th>\n",
       "      <td>-1.806100</td>\n",
       "      <td>0.172775</td>\n",
       "      <td>0.373720</td>\n",
       "      <td>-0.661650</td>\n",
       "      <td>1.0</td>\n",
       "    </tr>\n",
       "    <tr>\n",
       "      <th>75%</th>\n",
       "      <td>-0.541770</td>\n",
       "      <td>3.189275</td>\n",
       "      <td>5.626350</td>\n",
       "      <td>0.341790</td>\n",
       "      <td>1.0</td>\n",
       "    </tr>\n",
       "    <tr>\n",
       "      <th>max</th>\n",
       "      <td>2.391700</td>\n",
       "      <td>9.601400</td>\n",
       "      <td>17.927400</td>\n",
       "      <td>2.135300</td>\n",
       "      <td>1.0</td>\n",
       "    </tr>\n",
       "  </tbody>\n",
       "</table>\n",
       "</div>"
      ],
      "text/plain": [
       "         variance    skewness    curtosis     entropy  class\n",
       "count  610.000000  610.000000  610.000000  610.000000  610.0\n",
       "mean    -1.868443   -0.993576    2.148271   -1.246641    1.0\n",
       "std      1.881183    5.404884    5.261811    2.070984    0.0\n",
       "min     -7.042100  -13.773100   -5.286100   -7.588700    1.0\n",
       "25%     -3.061450   -5.810025   -1.357500   -2.458375    1.0\n",
       "50%     -1.806100    0.172775    0.373720   -0.661650    1.0\n",
       "75%     -0.541770    3.189275    5.626350    0.341790    1.0\n",
       "max      2.391700    9.601400   17.927400    2.135300    1.0"
      ]
     },
     "execution_count": 6,
     "metadata": {},
     "output_type": "execute_result"
    }
   ],
   "source": [
    "# conclusion statistics of fake banknotes\n",
    "data[data['class'] == 1].describe()"
   ]
  },
  {
   "cell_type": "code",
   "execution_count": 7,
   "id": "d750b102-6568-4163-a89e-056bf193b191",
   "metadata": {},
   "outputs": [
    {
     "data": {
      "text/html": [
       "<div>\n",
       "<style scoped>\n",
       "    .dataframe tbody tr th:only-of-type {\n",
       "        vertical-align: middle;\n",
       "    }\n",
       "\n",
       "    .dataframe tbody tr th {\n",
       "        vertical-align: top;\n",
       "    }\n",
       "\n",
       "    .dataframe thead th {\n",
       "        text-align: right;\n",
       "    }\n",
       "</style>\n",
       "<table border=\"1\" class=\"dataframe\">\n",
       "  <thead>\n",
       "    <tr style=\"text-align: right;\">\n",
       "      <th></th>\n",
       "      <th>variance</th>\n",
       "      <th>skewness</th>\n",
       "      <th>curtosis</th>\n",
       "      <th>entropy</th>\n",
       "      <th>class</th>\n",
       "    </tr>\n",
       "  </thead>\n",
       "  <tbody>\n",
       "    <tr>\n",
       "      <th>count</th>\n",
       "      <td>762.000000</td>\n",
       "      <td>762.000000</td>\n",
       "      <td>762.000000</td>\n",
       "      <td>762.000000</td>\n",
       "      <td>762.0</td>\n",
       "    </tr>\n",
       "    <tr>\n",
       "      <th>mean</th>\n",
       "      <td>2.276686</td>\n",
       "      <td>4.256627</td>\n",
       "      <td>0.796718</td>\n",
       "      <td>-1.147640</td>\n",
       "      <td>0.0</td>\n",
       "    </tr>\n",
       "    <tr>\n",
       "      <th>std</th>\n",
       "      <td>2.019348</td>\n",
       "      <td>5.138792</td>\n",
       "      <td>3.239894</td>\n",
       "      <td>2.125077</td>\n",
       "      <td>0.0</td>\n",
       "    </tr>\n",
       "    <tr>\n",
       "      <th>min</th>\n",
       "      <td>-4.285900</td>\n",
       "      <td>-6.932100</td>\n",
       "      <td>-4.941700</td>\n",
       "      <td>-8.548200</td>\n",
       "      <td>0.0</td>\n",
       "    </tr>\n",
       "    <tr>\n",
       "      <th>25%</th>\n",
       "      <td>0.883345</td>\n",
       "      <td>0.450063</td>\n",
       "      <td>-1.709700</td>\n",
       "      <td>-2.228250</td>\n",
       "      <td>0.0</td>\n",
       "    </tr>\n",
       "    <tr>\n",
       "      <th>50%</th>\n",
       "      <td>2.553100</td>\n",
       "      <td>5.668800</td>\n",
       "      <td>0.700605</td>\n",
       "      <td>-0.552380</td>\n",
       "      <td>0.0</td>\n",
       "    </tr>\n",
       "    <tr>\n",
       "      <th>75%</th>\n",
       "      <td>3.884450</td>\n",
       "      <td>8.691975</td>\n",
       "      <td>2.652925</td>\n",
       "      <td>0.423257</td>\n",
       "      <td>0.0</td>\n",
       "    </tr>\n",
       "    <tr>\n",
       "      <th>max</th>\n",
       "      <td>6.824800</td>\n",
       "      <td>12.951600</td>\n",
       "      <td>8.829400</td>\n",
       "      <td>2.449500</td>\n",
       "      <td>0.0</td>\n",
       "    </tr>\n",
       "  </tbody>\n",
       "</table>\n",
       "</div>"
      ],
      "text/plain": [
       "         variance    skewness    curtosis     entropy  class\n",
       "count  762.000000  762.000000  762.000000  762.000000  762.0\n",
       "mean     2.276686    4.256627    0.796718   -1.147640    0.0\n",
       "std      2.019348    5.138792    3.239894    2.125077    0.0\n",
       "min     -4.285900   -6.932100   -4.941700   -8.548200    0.0\n",
       "25%      0.883345    0.450063   -1.709700   -2.228250    0.0\n",
       "50%      2.553100    5.668800    0.700605   -0.552380    0.0\n",
       "75%      3.884450    8.691975    2.652925    0.423257    0.0\n",
       "max      6.824800   12.951600    8.829400    2.449500    0.0"
      ]
     },
     "execution_count": 7,
     "metadata": {},
     "output_type": "execute_result"
    }
   ],
   "source": [
    "# conclusion statistics of true banknotes\n",
    "data[data['class'] == 0].describe()"
   ]
  },
  {
   "cell_type": "markdown",
   "id": "1f79cd97-198b-4cf6-9d29-913e07c2333b",
   "metadata": {},
   "source": [
    "Although we can see some trends in the description tables, like fake banknotes have lower `variance`, it is actually difficult to see a clear difference between true and fake banknotes among these four features, `variance`, `skewness`, `curtosis`, and `entropy`.\n",
    "\n",
    "It is better to visualize the distribution of these four features."
   ]
  },
  {
   "cell_type": "markdown",
   "id": "ba89aafa-da13-49a5-97db-346fd40bb8fb",
   "metadata": {},
   "source": [
    "#### 2.1 Visualization"
   ]
  },
  {
   "cell_type": "code",
   "execution_count": 8,
   "id": "35e4e5bb-1dfc-4e3f-9f62-3354c2679681",
   "metadata": {},
   "outputs": [],
   "source": [
    "from matplotlib import pyplot as plt\n",
    "import seaborn as sns"
   ]
  },
  {
   "cell_type": "code",
   "execution_count": 9,
   "id": "78f5fcea-5a99-4b09-9f21-76ea80f17538",
   "metadata": {},
   "outputs": [],
   "source": [
    "def FeatureDistribution(feature):\n",
    "    fig = plt.figure(figsize=(8,3.5))\n",
    "    sns.kdeplot(data.loc[data['class'] == 1, feature], color='r', shade=True, label=\"Fake\")\n",
    "    sns.kdeplot(data.loc[data['class'] == 0, feature], color='b', shade=True, label=\"True\",)\n",
    "    plt.xlabel(feature)\n",
    "    plt.ylabel('kernel density')\n",
    "    plt.legend()\n",
    "    #plt.savefig(\"figures/{}_dist.png\".format(feature), bbox_inches='tight')\n",
    "    plt.show()"
   ]
  },
  {
   "cell_type": "code",
   "execution_count": 10,
   "id": "dd659f67-b5cc-48ac-81d9-9ea275980ce8",
   "metadata": {},
   "outputs": [
    {
     "data": {
      "image/png": "[encoded data removed]",
      "text/plain": [
       "<Figure size 800x350 with 1 Axes>"
      ]
     },
     "metadata": {},
     "output_type": "display_data"
    }
   ],
   "source": [
    "FeatureDistribution('variance')"
   ]
  },
  {
   "cell_type": "code",
   "execution_count": 11,
   "id": "95b295c3-a8d4-4642-9d6a-7d2e3d4347c6",
   "metadata": {},
   "outputs": [
    {
     "data": {
      "image/png": "[encoded data removed]",
      "text/plain": [
       "<Figure size 800x350 with 1 Axes>"
      ]
     },
     "metadata": {},
     "output_type": "display_data"
    }
   ],
   "source": [
    "FeatureDistribution('skewness')"
   ]
  },
  {
   "cell_type": "code",
   "execution_count": 12,
   "id": "d4e56c00-d480-46a1-bc4c-ff09ec70f013",
   "metadata": {},
   "outputs": [
    {
     "data": {
      "image/png": "[encoded data removed]",
      "text/plain": [
       "<Figure size 800x350 with 1 Axes>"
      ]
     },
     "metadata": {},
     "output_type": "display_data"
    },
    {
     "data": {
      "image/png": "[encoded data removed]",
      "text/plain": [
       "<Figure size 800x350 with 1 Axes>"
      ]
     },
     "metadata": {},
     "output_type": "display_data"
    }
   ],
   "source": [
    "FeatureDistribution('curtosis')\n",
    "FeatureDistribution('entropy')"
   ]
  },
  {
   "cell_type": "markdown",
   "id": "d98481da-ffc3-49f6-83bc-f18859709d22",
   "metadata": {},
   "source": [
    "- Among the four features, only `variance` and `skewness` show relatively clear difference in distribution between true and fake banknotes, though there are still overlaps.\n",
    "\n",
    "- True and fake banknotes overlap with each other almost completely in `curtosis` and `entropy`."
   ]
  },
  {
   "cell_type": "markdown",
   "id": "3cfb254b-6306-4c3a-9229-0862c52241c1",
   "metadata": {},
   "source": [
    "#### 2.2 Feature correlation"
   ]
  },
  {
   "cell_type": "code",
   "execution_count": 13,
   "id": "aafb6fc7-aa61-4889-b52c-fbd8b7178fb3",
   "metadata": {},
   "outputs": [
    {
     "data": {
      "text/html": [
       "<div>\n",
       "<style scoped>\n",
       "    .dataframe tbody tr th:only-of-type {\n",
       "        vertical-align: middle;\n",
       "    }\n",
       "\n",
       "    .dataframe tbody tr th {\n",
       "        vertical-align: top;\n",
       "    }\n",
       "\n",
       "    .dataframe thead th {\n",
       "        text-align: right;\n",
       "    }\n",
       "</style>\n",
       "<table border=\"1\" class=\"dataframe\">\n",
       "  <thead>\n",
       "    <tr style=\"text-align: right;\">\n",
       "      <th></th>\n",
       "      <th>variance</th>\n",
       "      <th>skewness</th>\n",
       "      <th>curtosis</th>\n",
       "      <th>entropy</th>\n",
       "      <th>class</th>\n",
       "    </tr>\n",
       "  </thead>\n",
       "  <tbody>\n",
       "    <tr>\n",
       "      <th>variance</th>\n",
       "      <td>1.000000</td>\n",
       "      <td>0.264026</td>\n",
       "      <td>-0.380850</td>\n",
       "      <td>0.276817</td>\n",
       "      <td>-0.724843</td>\n",
       "    </tr>\n",
       "    <tr>\n",
       "      <th>skewness</th>\n",
       "      <td>0.264026</td>\n",
       "      <td>1.000000</td>\n",
       "      <td>-0.786895</td>\n",
       "      <td>-0.526321</td>\n",
       "      <td>-0.444688</td>\n",
       "    </tr>\n",
       "    <tr>\n",
       "      <th>curtosis</th>\n",
       "      <td>-0.380850</td>\n",
       "      <td>-0.786895</td>\n",
       "      <td>1.000000</td>\n",
       "      <td>0.318841</td>\n",
       "      <td>0.155883</td>\n",
       "    </tr>\n",
       "    <tr>\n",
       "      <th>entropy</th>\n",
       "      <td>0.276817</td>\n",
       "      <td>-0.526321</td>\n",
       "      <td>0.318841</td>\n",
       "      <td>1.000000</td>\n",
       "      <td>-0.023424</td>\n",
       "    </tr>\n",
       "    <tr>\n",
       "      <th>class</th>\n",
       "      <td>-0.724843</td>\n",
       "      <td>-0.444688</td>\n",
       "      <td>0.155883</td>\n",
       "      <td>-0.023424</td>\n",
       "      <td>1.000000</td>\n",
       "    </tr>\n",
       "  </tbody>\n",
       "</table>\n",
       "</div>"
      ],
      "text/plain": [
       "          variance  skewness  curtosis   entropy     class\n",
       "variance  1.000000  0.264026 -0.380850  0.276817 -0.724843\n",
       "skewness  0.264026  1.000000 -0.786895 -0.526321 -0.444688\n",
       "curtosis -0.380850 -0.786895  1.000000  0.318841  0.155883\n",
       "entropy   0.276817 -0.526321  0.318841  1.000000 -0.023424\n",
       "class    -0.724843 -0.444688  0.155883 -0.023424  1.000000"
      ]
     },
     "execution_count": 13,
     "metadata": {},
     "output_type": "execute_result"
    }
   ],
   "source": [
    "corr = data.corr()\n",
    "corr"
   ]
  },
  {
   "cell_type": "code",
   "execution_count": 14,
   "id": "4fdf79a3-2253-4341-a12b-d88be60c4af6",
   "metadata": {},
   "outputs": [
    {
     "data": {
      "image/png": "[encoded data removed]",
      "text/plain": [
       "<Figure size 640x480 with 2 Axes>"
      ]
     },
     "metadata": {},
     "output_type": "display_data"
    }
   ],
   "source": [
    "sns.heatmap(data.corr(), xticklabels=corr.columns.values, yticklabels=corr.columns.values, annot=True)\n",
    "plt.show()"
   ]
  },
  {
   "cell_type": "markdown",
   "id": "d51f72c5-a0d8-4830-b64d-c2f3fd057d67",
   "metadata": {},
   "source": [
    "- `class` (true or fake banknotes) has strong correlations with `variance` and `skewness`. The correlation between `class` and `curtosis` is also non-negligible.\n",
    "  \n",
    "- There might be latent correlation between `class` and `entropy`, as `entropy` have sustantial correlations with `variance`, `skewness`, and `curtosis`."
   ]
  },
  {
   "cell_type": "markdown",
   "id": "e5b0019b-0d96-4e66-97bc-26ab9a55e7c2",
   "metadata": {},
   "source": [
    "#### 2.3 Statistical examination"
   ]
  },
  {
   "cell_type": "markdown",
   "id": "effaebb2-f1f9-4894-90bb-76e29353eab8",
   "metadata": {},
   "source": [
    "Now we use hypothesis tests to rigorously decide which features to use in the logistic regression model. Since all the features are numerical, we only use Kolmogorov–Smirnov test (***K-S test***)."
   ]
  },
  {
   "cell_type": "code",
   "execution_count": 15,
   "id": "c73ed328-ec0a-4f68-a91d-9feeb2de9439",
   "metadata": {},
   "outputs": [],
   "source": [
    "from scipy.stats import ks_2samp\n",
    "\n",
    "def KS_test(feature):\n",
    "\n",
    "    dist_true = data.loc[data['class']==0][feature]\n",
    "    dist_fake = data.loc[data['class']==1][feature]\n",
    "    __, p_value = ks_2samp(dist_true,dist_fake)\n",
    "    print(feature + ' p-value: {}'.format(p_value))"
   ]
  },
  {
   "cell_type": "code",
   "execution_count": 16,
   "id": "22f0d114-3296-4376-9dd1-c2dce7180eff",
   "metadata": {},
   "outputs": [
    {
     "name": "stdout",
     "output_type": "stream",
     "text": [
      "variance p-value: 1.708016779480064e-165\n",
      "skewness p-value: 3.466881810901478e-64\n",
      "curtosis p-value: 2.093929045695565e-09\n",
      "entropy p-value: 0.333460928017807\n"
     ]
    }
   ],
   "source": [
    "KS_test('variance')\n",
    "KS_test('skewness')\n",
    "KS_test('curtosis')\n",
    "KS_test('entropy')"
   ]
  },
  {
   "cell_type": "markdown",
   "id": "068a4f49-3dff-4a74-a161-05338ac71838",
   "metadata": {},
   "source": [
    "As expected, `variance`, `skewness`, and `curtosis` have p-values < 0.05. For these three features, we reject the null hypothesis that they have same distribution between true and fake banknotes. We will further use them in model training."
   ]
  },
  {
   "cell_type": "markdown",
   "id": "3dc7afcf-0a5f-4250-bd1c-e8637c7b766e",
   "metadata": {},
   "source": [
    "## 3. Logistic regression"
   ]
  },
  {
   "cell_type": "markdown",
   "id": "bde9813a-ce0f-43e2-a242-922c55d735d1",
   "metadata": {},
   "source": [
    "Logistic regression is an easy and most common method to do binary classification. Compared to other classification methods/models, logistic regression is also faster and more straight-forward. I will evaluate the classification performance with true-positive rate (TPR) and false-positive rate (FPR)."
   ]
  },
  {
   "cell_type": "markdown",
   "id": "4811cefe-0041-42a3-b12a-1d64e8425f00",
   "metadata": {},
   "source": [
    "#### 3.1 Model training preparation "
   ]
  },
  {
   "cell_type": "markdown",
   "id": "91b999ef-c5b2-4890-85a9-bac8822e9dc5",
   "metadata": {},
   "source": [
    "Based on the K-S test, we drop `entropy` and use only `variance`, `skewness`, and `curtosis`."
   ]
  },
  {
   "cell_type": "code",
   "execution_count": 17,
   "id": "4b9be1bd-e121-45c2-b4a6-4af42da422c0",
   "metadata": {},
   "outputs": [],
   "source": [
    "from sklearn.preprocessing import StandardScaler\n",
    "from sklearn.model_selection import train_test_split, GridSearchCV \n",
    "from sklearn.linear_model import LogisticRegression"
   ]
  },
  {
   "cell_type": "code",
   "execution_count": 18,
   "id": "da3079c3-6e7e-42b3-93c3-6200437efbca",
   "metadata": {},
   "outputs": [
    {
     "data": {
      "text/html": [
       "<div>\n",
       "<style scoped>\n",
       "    .dataframe tbody tr th:only-of-type {\n",
       "        vertical-align: middle;\n",
       "    }\n",
       "\n",
       "    .dataframe tbody tr th {\n",
       "        vertical-align: top;\n",
       "    }\n",
       "\n",
       "    .dataframe thead th {\n",
       "        text-align: right;\n",
       "    }\n",
       "</style>\n",
       "<table border=\"1\" class=\"dataframe\">\n",
       "  <thead>\n",
       "    <tr style=\"text-align: right;\">\n",
       "      <th></th>\n",
       "      <th>variance</th>\n",
       "      <th>skewness</th>\n",
       "      <th>curtosis</th>\n",
       "      <th>class</th>\n",
       "    </tr>\n",
       "  </thead>\n",
       "  <tbody>\n",
       "    <tr>\n",
       "      <th>0</th>\n",
       "      <td>3.62160</td>\n",
       "      <td>8.6661</td>\n",
       "      <td>-2.8073</td>\n",
       "      <td>0</td>\n",
       "    </tr>\n",
       "    <tr>\n",
       "      <th>1</th>\n",
       "      <td>4.54590</td>\n",
       "      <td>8.1674</td>\n",
       "      <td>-2.4586</td>\n",
       "      <td>0</td>\n",
       "    </tr>\n",
       "    <tr>\n",
       "      <th>2</th>\n",
       "      <td>3.86600</td>\n",
       "      <td>-2.6383</td>\n",
       "      <td>1.9242</td>\n",
       "      <td>0</td>\n",
       "    </tr>\n",
       "    <tr>\n",
       "      <th>3</th>\n",
       "      <td>3.45660</td>\n",
       "      <td>9.5228</td>\n",
       "      <td>-4.0112</td>\n",
       "      <td>0</td>\n",
       "    </tr>\n",
       "    <tr>\n",
       "      <th>4</th>\n",
       "      <td>0.32924</td>\n",
       "      <td>-4.4552</td>\n",
       "      <td>4.5718</td>\n",
       "      <td>0</td>\n",
       "    </tr>\n",
       "  </tbody>\n",
       "</table>\n",
       "</div>"
      ],
      "text/plain": [
       "   variance  skewness  curtosis  class\n",
       "0   3.62160    8.6661   -2.8073      0\n",
       "1   4.54590    8.1674   -2.4586      0\n",
       "2   3.86600   -2.6383    1.9242      0\n",
       "3   3.45660    9.5228   -4.0112      0\n",
       "4   0.32924   -4.4552    4.5718      0"
      ]
     },
     "execution_count": 18,
     "metadata": {},
     "output_type": "execute_result"
    }
   ],
   "source": [
    "data_feature = data.drop(['entropy'], axis=1)\n",
    "data_feature.head()"
   ]
  },
  {
   "cell_type": "markdown",
   "id": "8cdf7c5b-ae03-4643-a38b-b6544ee2a69d",
   "metadata": {},
   "source": [
    "We also need to standardize/normalize the data to ensure the efficiency and quality of the modelling."
   ]
  },
  {
   "cell_type": "code",
   "execution_count": 19,
   "id": "f36d98b8-d705-4559-bf62-0430f9244da6",
   "metadata": {},
   "outputs": [],
   "source": [
    "x_features = data_feature.drop(['class'], axis=1)\n",
    "y_label = data_feature['class'].values\n",
    "\n",
    "# Standardize/normalization\n",
    "scaler = StandardScaler()\n",
    "x_features_scaled = pd.DataFrame(scaler.fit_transform(x_features), columns=x_features.columns)"
   ]
  },
  {
   "cell_type": "code",
   "execution_count": 20,
   "id": "911818e3-1409-4f2e-89fb-4851c71bd86d",
   "metadata": {},
   "outputs": [],
   "source": [
    "# Split into training and test sets\n",
    "x_train, x_test, y_train, y_test =  train_test_split(x_features_scaled, y_label, test_size=0.3, random_state=0)"
   ]
  },
  {
   "cell_type": "markdown",
   "id": "bc51dff7-69aa-4b85-9e54-9145e8d27fc7",
   "metadata": {},
   "source": [
    "#### 3.2 Model training and hyperparameters tuning/optimizing"
   ]
  },
  {
   "cell_type": "markdown",
   "id": "d10238be-a868-4863-9933-4993e490970e",
   "metadata": {},
   "source": [
    "The model training and tuning will be evaluated by the Area Under the Receiver Operating Characteristic Curve (**ROC AUC**), a relation between TPR and FPR. ***ROC AUC score is between 0 and 1, the closer to 1 the better the classification.***\n",
    "\n",
    "We ***optimize/tune the hyperparameters with grid search.***"
   ]
  },
  {
   "cell_type": "code",
   "execution_count": 21,
   "id": "92ae6a1d-1d29-4909-aefb-df5efb5aa077",
   "metadata": {},
   "outputs": [
    {
     "name": "stdout",
     "output_type": "stream",
     "text": [
      "Best ROC AUC score: 0.9997367266344888\n",
      "Optimized value of C: {'C': 0.5754399373371573}\n"
     ]
    }
   ],
   "source": [
    "# Training model and tuning hyperparameters\n",
    "lr_three_feature = LogisticRegression()\n",
    "\n",
    "C_grid = 0.001*10**(np.arange(0, 1.01, 0.01)*3)\n",
    "parameters = {\"C\": C_grid}\n",
    "\n",
    "grid_search = GridSearchCV(estimator=lr_three_feature,\n",
    "                           param_grid=parameters,\n",
    "                           scoring='roc_auc', \n",
    "                           n_jobs=-1)\n",
    "\n",
    "grid_search_result = grid_search.fit(x_train, y_train)\n",
    "\n",
    "print(\"Best ROC AUC score:\", grid_search_result.best_score_)\n",
    "print(\"Optimized value of C:\", grid_search_result.best_params_)"
   ]
  },
  {
   "cell_type": "code",
   "execution_count": 22,
   "id": "7cbe01f0-3a2b-43c7-9583-8585dc5b5e9d",
   "metadata": {},
   "outputs": [],
   "source": [
    "# Get the optimized model for evaluation\n",
    "lr_three_feature_optimized = grid_search_result.best_estimator_"
   ]
  },
  {
   "cell_type": "markdown",
   "id": "73593880-860b-4805-a5f8-e54ee791b4c9",
   "metadata": {},
   "source": [
    "#### 3.3 Performance evaluation"
   ]
  },
  {
   "cell_type": "code",
   "execution_count": 27,
   "id": "ac824a90-b698-4aa4-9083-eb2c9590a091",
   "metadata": {},
   "outputs": [],
   "source": [
    "from sklearn.metrics import confusion_matrix, precision_score, recall_score, f1_score, roc_curve, roc_auc_score, accuracy_score\n",
    "\n",
    "def PerformanceReport(optimized_model, x_train, x_test, y_train, y_test):\n",
    "    y_train_predict = optimized_model.predict(x_train)\n",
    "    y_train_predict_prob = optimized_model.predict_proba(x_train)[:, 1] \n",
    "\n",
    "    y_test_predict = optimized_model.predict(x_test)\n",
    "    y_test_predict_prob = optimized_model.predict_proba(x_test)[:, 1]\n",
    "\n",
    "    train_confusion_mat = confusion_matrix(y_train, y_train_predict)\n",
    "    test_confusion_mat = confusion_matrix(y_test, y_test_predict)\n",
    "\n",
    "    train_tn, train_fp, train_fn, train_tp = train_confusion_mat.ravel()\n",
    "    test_tn, test_fp, test_fn, test_tp = test_confusion_mat.ravel()\n",
    "\n",
    "    print('Training true positive:', train_tp)\n",
    "    print('Training false positive:', train_fp)\n",
    "    print('Training true negative:', train_tn)\n",
    "    print('Training false negative:', train_fn)\n",
    "    print('\\n')\n",
    "    print('Test true positive:', test_tp)\n",
    "    print('Test false positive:', test_fp)\n",
    "    print('Test true negative:', test_tn)\n",
    "    print('Test false negative:', test_fn)\n",
    "    \n",
    "    print('\\n')\n",
    "    print('=======')\n",
    "    print('ROC AUC score of training set:', roc_auc_score(y_train, y_train_predict_prob))\n",
    "    print('ROC AUC score of test set:', roc_auc_score(y_test, y_test_predict_prob))\n",
    "    print('=======')\n",
    "    print('Classification accuracy of training set:', accuracy_score(y_train, y_train_predict))\n",
    "    print('Classification accuracy of test set:', accuracy_score(y_test, y_test_predict))\n",
    "    print('=======')\n",
    "    print('Classification precision of training set:', precision_score(y_train, y_train_predict))\n",
    "    print('Classification precision of test set:', precision_score(y_test, y_test_predict))\n",
    "    print('=======')\n",
    "    print('Classification recall of training set:', recall_score(y_train, y_train_predict))\n",
    "    print('Classification recall of test set:', recall_score(y_test, y_test_predict))\n",
    "    print('=======')\n",
    "    print('Classification f1 score of training set:', f1_score(y_train, y_train_predict))\n",
    "    print('Classification f1 score of test set:', f1_score(y_test, y_test_predict))\n",
    "\n",
    "def PlotROC(optimized_model, x_test, y_test):\n",
    "    y_test_predict_prob = optimized_model.predict_proba(x_test)[:, 1]\n",
    "    fpr_test, tpr_test, thresh_test = roc_curve(y_test, y_test_predict_prob)\n",
    "    test_roc_auc = roc_auc_score(y_test, y_test_predict_prob)\n",
    "\n",
    "    fig = plt.figure()\n",
    "    plt.plot(fpr_test, tpr_test, color='r', lw=2)\n",
    "    plt.plot([0, 1], [0, 1], color='b', lw=2, linestyle='--')\n",
    "    plt.xlim([-0.05, 1.05])\n",
    "    plt.ylim([-0.05, 1.05])\n",
    "    plt.xlabel('False Positive Rate')\n",
    "    plt.ylabel('True Positive Rate')\n",
    "    plt.title('ROC Curve (Area = {:.2f})'.format(test_roc_auc))\n",
    "    #plt.savefig('figures/ROCurve.png', bbox_inches='tight')\n",
    "    plt.show()"
   ]
  },
  {
   "cell_type": "code",
   "execution_count": 24,
   "id": "4c480165-afa7-470e-8805-f6dac686909c",
   "metadata": {},
   "outputs": [
    {
     "name": "stdout",
     "output_type": "stream",
     "text": [
      "Training true positive: 428\n",
      "Training false positive: 16\n",
      "Training true negative: 514\n",
      "Training false negative: 2\n",
      "\n",
      "\n",
      "Test true positive: 180\n",
      "Test false positive: 7\n",
      "Test true negative: 225\n",
      "Test false negative: 0\n",
      "\n",
      "\n",
      "=======\n",
      "ROC AUC score of training set: 0.9995831505046073\n",
      "ROC AUC score of test set: 0.9998084291187739\n",
      "=======\n",
      "Classification accuracy of training set: 0.98125\n",
      "Classification accuracy of test set: 0.9830097087378641\n",
      "=======\n",
      "Classification precision of training set: 0.963963963963964\n",
      "Classification precision of test set: 0.9625668449197861\n",
      "=======\n",
      "Classification recall of training set: 0.9953488372093023\n",
      "Classification recall of test set: 1.0\n",
      "=======\n",
      "Classification f1 score of training set: 0.9794050343249427\n",
      "Classification f1 score of test set: 0.9809264305177112\n"
     ]
    }
   ],
   "source": [
    "PerformanceReport(lr_three_feature_optimized, x_train, x_test, y_train, y_test)"
   ]
  },
  {
   "cell_type": "code",
   "execution_count": 26,
   "id": "30b14d77-1654-4c18-bcc0-2d02aaa422a3",
   "metadata": {},
   "outputs": [
    {
     "data": {
      "image/png": "[encoded data removed]",
      "text/plain": [
       "<Figure size 640x480 with 1 Axes>"
      ]
     },
     "metadata": {},
     "output_type": "display_data"
    }
   ],
   "source": [
    "PlotROC(lr_three_feature_optimized, x_test, y_test)"
   ]
  },
  {
   "cell_type": "markdown",
   "id": "7b321c6c-54a7-4b02-b27b-b7857f49729a",
   "metadata": {},
   "source": [
    "This logistic regression model works extremely well! The ROC AUC score is nearlly 1. We have 98% accuracy with 100% recall. In other words, with this logistic regression model, though the store might receive complaints sometimes from customers who get their banknotes rejected, the store will not lose money due to fake banknotes.\n",
    "\n",
    "***Your shop will get more five-star reviews!*** "
   ]
  },
  {
   "cell_type": "markdown",
   "id": "d6799fd6-4360-4ffc-8c18-4ef63295758f",
   "metadata": {},
   "source": [
    "### Extra: including `entropy`"
   ]
  },
  {
   "cell_type": "code",
   "execution_count": 28,
   "id": "ce67d54e-4a02-43af-aa33-136f91387a68",
   "metadata": {},
   "outputs": [],
   "source": [
    "x_features = data.drop(['class'], axis=1)\n",
    "y_label = data['class'].values\n",
    "\n",
    "scaler = StandardScaler()\n",
    "x_features_scaled = pd.DataFrame(scaler.fit_transform(x_features), columns=x_features.columns)\n",
    "\n",
    "x_train, x_test, y_train, y_test =  train_test_split(x_features_scaled, y_label, test_size=0.3, random_state=0)"
   ]
  },
  {
   "cell_type": "code",
   "execution_count": 29,
   "id": "bd79fe2c-8da0-40a3-a137-e9b8127e6ba5",
   "metadata": {},
   "outputs": [
    {
     "name": "stdout",
     "output_type": "stream",
     "text": [
      "Best ROC AUC score: 0.999692847740237\n",
      "Optimized value of C: {'C': 1.0}\n"
     ]
    }
   ],
   "source": [
    "lr_total = LogisticRegression()\n",
    "\n",
    "C_grid = 0.001*10**(np.arange(0, 1.01, 0.01)*3)\n",
    "parameters = {\"C\": C_grid}\n",
    "\n",
    "grid_search = GridSearchCV(estimator=lr_total,\n",
    "                           param_grid=parameters,\n",
    "                           scoring='roc_auc', \n",
    "                           n_jobs=-1)\n",
    "\n",
    "grid_search_result = grid_search.fit(x_train, y_train)\n",
    "\n",
    "print(\"Best ROC AUC score:\", grid_search_result.best_score_)\n",
    "print(\"Optimized value of C:\", grid_search_result.best_params_)"
   ]
  },
  {
   "cell_type": "markdown",
   "id": "0715f6ed-ac6f-4f33-a1ba-14d24bb69f3d",
   "metadata": {},
   "source": [
    "The same as using only three features."
   ]
  },
  {
   "cell_type": "code",
   "execution_count": 30,
   "id": "aa8e402d-5c5e-4719-b55c-e5e27a693c02",
   "metadata": {},
   "outputs": [],
   "source": [
    "lr_total_optimized = grid_search_result.best_estimator_"
   ]
  },
  {
   "cell_type": "code",
   "execution_count": 31,
   "id": "066e3455-9df6-440c-950e-8d0a38d2104e",
   "metadata": {},
   "outputs": [
    {
     "name": "stdout",
     "output_type": "stream",
     "text": [
      "Training true positive: 428\n",
      "Training false positive: 16\n",
      "Training true negative: 514\n",
      "Training false negative: 2\n",
      "\n",
      "\n",
      "Test true positive: 180\n",
      "Test false positive: 7\n",
      "Test true negative: 225\n",
      "Test false negative: 0\n",
      "\n",
      "\n",
      "=======\n",
      "ROC AUC score of training set: 0.9996182536200088\n",
      "ROC AUC score of test set: 0.9998563218390805\n",
      "=======\n",
      "Classification accuracy of training set: 0.98125\n",
      "Classification accuracy of test set: 0.9830097087378641\n",
      "=======\n",
      "Classification precision of training set: 0.963963963963964\n",
      "Classification precision of test set: 0.9625668449197861\n",
      "=======\n",
      "Classification recall of training set: 0.9953488372093023\n",
      "Classification recall of test set: 1.0\n",
      "=======\n",
      "Classification f1 score of training set: 0.9794050343249427\n",
      "Classification f1 score of test set: 0.9809264305177112\n"
     ]
    }
   ],
   "source": [
    "PerformanceReport(lr_total_optimized, x_train, x_test, y_train, y_test)"
   ]
  },
  {
   "cell_type": "markdown",
   "id": "ac651b00-c5df-4a11-9568-a40b656e4dd3",
   "metadata": {},
   "source": [
    "Exactly the same as using three features..."
   ]
  },
  {
   "cell_type": "markdown",
   "id": "35e1e90a-87d2-44cd-8ade-52be9b071f2e",
   "metadata": {},
   "source": [
    "***Entropy is a redundant feature in the true/fake banknote classification*** "
   ]
  },
  {
   "cell_type": "code",
   "execution_count": null,
   "id": "102b7e20-ab45-4e69-9c86-635645221d6b",
   "metadata": {},
   "outputs": [],
   "source": []
  }
 ],
 "metadata": {
  "kernelspec": {
   "display_name": "Python 3 (ipykernel)",
   "language": "python",
   "name": "python3"
  },
  "language_info": {
   "codemirror_mode": {
    "name": "ipython",
    "version": 3
   },
   "file_extension": ".py",
   "mimetype": "text/x-python",
   "name": "python",
   "nbconvert_exporter": "python",
   "pygments_lexer": "ipython3",
   "version": "3.11.3"
  }
 },
 "nbformat": 4,
 "nbformat_minor": 5
}
